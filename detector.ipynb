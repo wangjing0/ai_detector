{
 "cells": [
  {
   "cell_type": "code",
   "execution_count": 11,
   "metadata": {},
   "outputs": [],
   "source": [
    "#%pip install --upgrade huggingface_hub"
   ]
  },
  {
   "cell_type": "code",
   "execution_count": 1,
   "metadata": {},
   "outputs": [
    {
     "name": "stderr",
     "output_type": "stream",
     "text": [
      "/home/ubuntu/.local/lib/python3.12/site-packages/tqdm/auto.py:21: TqdmWarning: IProgress not found. Please update jupyter and ipywidgets. See https://ipywidgets.readthedocs.io/en/stable/user_install.html\n",
      "  from .autonotebook import tqdm as notebook_tqdm\n"
     ]
    },
    {
     "name": "stdout",
     "output_type": "stream",
     "text": [
      "\u001b[33m⚠️  Warning: 'huggingface-cli scan-cache' is deprecated. Use 'hf cache scan' instead.\u001b[0m\n",
      "REPO ID                                     REPO TYPE REVISION                                 SIZE ON DISK NB FILES LAST_MODIFIED REFS LOCAL PATH                                                                                                                                  \n",
      "------------------------------------------- --------- ---------------------------------------- ------------ -------- ------------- ---- ------------------------------------------------------------------------------------------------------------------------------------------- \n",
      "Linq-AI-Research/FinanceRAG                 dataset   ba6f7470152e76b389ad48e3997f15381e6aecae        19.3M       16 9 months ago  main /home/ubuntu/.cache/huggingface/hub/datasets--Linq-AI-Research--FinanceRAG/snapshots/ba6f7470152e76b389ad48e3997f15381e6aecae               \n",
      "autogluon/chronos_datasets                  dataset   eeecad0b82a8c237e212ce6f8d1abecb513e2cec       379.3K        2 4 weeks ago   main /home/ubuntu/.cache/huggingface/hub/datasets--autogluon--chronos_datasets/snapshots/eeecad0b82a8c237e212ce6f8d1abecb513e2cec                \n",
      "inria-soda/carte-benchmark                  dataset   4900bff4a845e1757f4fb4183f2ad68f6860642d         2.7M        2 4 weeks ago   main /home/ubuntu/.cache/huggingface/hub/datasets--inria-soda--carte-benchmark/snapshots/4900bff4a845e1757f4fb4183f2ad68f6860642d                \n",
      "colbert-ir/colbertv2.0                      model     c1e84128e85ef755c096a95bdb06b47793b13acf       439.0M        6 9 months ago  main /home/ubuntu/.cache/huggingface/hub/models--colbert-ir--colbertv2.0/snapshots/c1e84128e85ef755c096a95bdb06b47793b13acf                      \n",
      "google/gemma-2b                             model     9cf48e52b224239de00d483ec8eb84fb8d0f3a3a         5.0G        9 5 days ago    main /home/ubuntu/.cache/huggingface/hub/models--google--gemma-2b/snapshots/9cf48e52b224239de00d483ec8eb84fb8d0f3a3a                             \n",
      "google/gemma-2b-it                          model     96988410cbdaeb8d5093d1ebdc5a8fb563e02bad         5.0G        9 5 days ago    main /home/ubuntu/.cache/huggingface/hub/models--google--gemma-2b-it/snapshots/96988410cbdaeb8d5093d1ebdc5a8fb563e02bad                          \n",
      "google/paligemma-3b-mix-448                 model     ead2d9a35598cb89119af004f5d023b311d1c4a1        11.7G       12 10 months ago main /home/ubuntu/.cache/huggingface/hub/models--google--paligemma-3b-mix-448/snapshots/ead2d9a35598cb89119af004f5d023b311d1c4a1                 \n",
      "google-t5/t5-small                          model     df1b051c49625cf57a3d0d8d3863ed4d13564fe4       244.2M        5 1 year ago    main /home/ubuntu/.cache/huggingface/hub/models--google-t5--t5-small/snapshots/df1b051c49625cf57a3d0d8d3863ed4d13564fe4                          \n",
      "sentence-transformers/all-MiniLM-L6-v2      model     8b3219a92973c328a8e22fadcfa821b5dc75636a        91.6M       11 10 months ago      /home/ubuntu/.cache/huggingface/hub/models--sentence-transformers--all-MiniLM-L6-v2/snapshots/8b3219a92973c328a8e22fadcfa821b5dc75636a      \n",
      "sentence-transformers/all-MiniLM-L6-v2      model     c9745ed1d9f207416be6d2e6f8de32d1f16199bf        91.6M       11 5 days ago    main /home/ubuntu/.cache/huggingface/hub/models--sentence-transformers--all-MiniLM-L6-v2/snapshots/c9745ed1d9f207416be6d2e6f8de32d1f16199bf      \n",
      "sentence-transformers/all-mpnet-base-v2     model     84f2bcc00d77236f9e89c8a360a00fb1139bf47d       438.7M       11 1 year ago    main /home/ubuntu/.cache/huggingface/hub/models--sentence-transformers--all-mpnet-base-v2/snapshots/84f2bcc00d77236f9e89c8a360a00fb1139bf47d     \n",
      "t5-small                                    model     df1b051c49625cf57a3d0d8d3863ed4d13564fe4         2.2M        4 9 months ago  main /home/ubuntu/.cache/huggingface/hub/models--t5-small/snapshots/df1b051c49625cf57a3d0d8d3863ed4d13564fe4                                     \n",
      "unsloth/Meta-Llama-3.1-8B-Instruct-bnb-4bit model     f15c379fb32bb402fa06a7ae9aecb1febf4b79ec         5.7G        6 6 days ago    main /home/ubuntu/.cache/huggingface/hub/models--unsloth--Meta-Llama-3.1-8B-Instruct-bnb-4bit/snapshots/f15c379fb32bb402fa06a7ae9aecb1febf4b79ec \n",
      "unsloth/Meta-Llama-3.1-8B-bnb-4bit          model     70d37f62f4f475a5a42dbbd5b7aad38f420e0960         5.7G        6 6 days ago    main /home/ubuntu/.cache/huggingface/hub/models--unsloth--Meta-Llama-3.1-8B-bnb-4bit/snapshots/70d37f62f4f475a5a42dbbd5b7aad38f420e0960          \n",
      "unslothai/1                                 model     7ec782b7604cd9ea0781c23a4270f031650f5617        814.0        2 4 months ago  main /home/ubuntu/.cache/huggingface/hub/models--unslothai--1/snapshots/7ec782b7604cd9ea0781c23a4270f031650f5617                                 \n",
      "unslothai/lambda                            model     d508d227b9e1298d9e968ad6ea13572c7e0da4f6        811.0        2 8 months ago  main /home/ubuntu/.cache/huggingface/hub/models--unslothai--lambda/snapshots/d508d227b9e1298d9e968ad6ea13572c7e0da4f6                            \n",
      "unslothai/other                             model     43d9e0f2f19a5d7836895f648dc0e762816acf77        635.0        1 4 months ago  main /home/ubuntu/.cache/huggingface/hub/models--unslothai--other/snapshots/43d9e0f2f19a5d7836895f648dc0e762816acf77                             \n",
      "unslothai/repeat                            model     7c48478c02f84ed89f149b0815cc0216ee831fb0        811.0        2 10 months ago main /home/ubuntu/.cache/huggingface/hub/models--unslothai--repeat/snapshots/7c48478c02f84ed89f149b0815cc0216ee831fb0                            \n",
      "vidore/colpali                              model     2d345a64b81c56037fc2907c7d0fb59795101cbe       100.9M        8 10 months ago      /home/ubuntu/.cache/huggingface/hub/models--vidore--colpali/snapshots/2d345a64b81c56037fc2907c7d0fb59795101cbe                              \n",
      "vidore/colpali                              model     468f4eba01d8eab241b42773ad6018b8c901cb34       100.9M        8 10 months ago      /home/ubuntu/.cache/huggingface/hub/models--vidore--colpali/snapshots/468f4eba01d8eab241b42773ad6018b8c901cb34                              \n",
      "vidore/colpali                              model     55e76ff047b92147638dbdd7aa541b721f794be1       100.9M        8 10 months ago      /home/ubuntu/.cache/huggingface/hub/models--vidore--colpali/snapshots/55e76ff047b92147638dbdd7aa541b721f794be1                              \n",
      "vidore/colpali                              model     662f85b4c8e97e0bd08c038b7b5f5dbb7da5221f       100.9M        8 11 months ago      /home/ubuntu/.cache/huggingface/hub/models--vidore--colpali/snapshots/662f85b4c8e97e0bd08c038b7b5f5dbb7da5221f                              \n",
      "vidore/colpali                              model     82b73faebcbdd2f2009ada076b22fb85d3b63665       100.9M        8 10 months ago main /home/ubuntu/.cache/huggingface/hub/models--vidore--colpali/snapshots/82b73faebcbdd2f2009ada076b22fb85d3b63665                              \n",
      "vidore/colqwen2-v1.0                        model     83a0134c8f274b3688d8dbde26de8a5b109ad8b4        89.9M       10 2 months ago  main /home/ubuntu/.cache/huggingface/hub/models--vidore--colqwen2-v1.0/snapshots/83a0134c8f274b3688d8dbde26de8a5b109ad8b4                        \n",
      "\n",
      "Done in 0.0s. Scanned 19 repo(s) for a total of \u001b[1m\u001b[31m34.7G\u001b[0m.\n",
      "\u001b[90mGot 9 warning(s) while scanning.\u001b[0m\n",
      "\u001b[90mSnapshots dir doesn't exist in cached repo: /home/ubuntu/.cache/huggingface/hub/models--jingwang--foo/snapshots\u001b[0m\n",
      "\u001b[90mRepo path is not a directory: /home/ubuntu/.cache/huggingface/hub/tmpz3tkfdcz\u001b[0m\n",
      "\u001b[90mRepo path is not a directory: /home/ubuntu/.cache/huggingface/hub/version.txt\u001b[0m\n",
      "\u001b[90mRepo path is not a directory: /home/ubuntu/.cache/huggingface/hub/version_diffusers_cache.txt\u001b[0m\n",
      "\u001b[90mRepo path is not a directory: /home/ubuntu/.cache/huggingface/hub/tmpvbgkrzjj\u001b[0m\n",
      "\u001b[90mRepo path is not a directory: /home/ubuntu/.cache/huggingface/hub/tmpg48k4he1\u001b[0m\n",
      "\u001b[90mRepo path is not a directory: /home/ubuntu/.cache/huggingface/hub/tmpf1sy3iob\u001b[0m\n",
      "\u001b[90mRepo path is not a directory: /home/ubuntu/.cache/huggingface/hub/tmpuc36zy9x\u001b[0m\n",
      "\u001b[90mRepo path is not a directory: /home/ubuntu/.cache/huggingface/hub/tmpnqo51e3_\u001b[0m\n"
     ]
    }
   ],
   "source": [
    "from huggingface_hub import scan_cache_dir, hf_hub_download\n",
    "\n",
    "!huggingface-cli scan-cache -vvv"
   ]
  },
  {
   "cell_type": "code",
   "execution_count": 4,
   "metadata": {},
   "outputs": [],
   "source": [
    "scan_cache_dir().delete_revisions(\n",
    "'dbd91bbaf64a0e591f4340ce8b66fd1dba9ab6bd',\n",
    ").execute()"
   ]
  },
  {
   "cell_type": "code",
   "execution_count": 5,
   "metadata": {},
   "outputs": [
    {
     "data": {
      "text/plain": [
       "'/home/ubuntu/Jing/Detector'"
      ]
     },
     "execution_count": 5,
     "metadata": {},
     "output_type": "execute_result"
    }
   ],
   "source": [
    "import os\n",
    "os.getcwd()"
   ]
  },
  {
   "cell_type": "code",
   "execution_count": 6,
   "metadata": {},
   "outputs": [
    {
     "name": "stdout",
     "output_type": "stream",
     "text": [
      "/home/ubuntu/anaconda3/envs/graphDL/bin/python\n"
     ]
    }
   ],
   "source": [
    "!which python"
   ]
  },
  {
   "cell_type": "code",
   "execution_count": 1,
   "metadata": {},
   "outputs": [
    {
     "name": "stderr",
     "output_type": "stream",
     "text": [
      "/home/ubuntu/.local/lib/python3.12/site-packages/tqdm/auto.py:21: TqdmWarning: IProgress not found. Please update jupyter and ipywidgets. See https://ipywidgets.readthedocs.io/en/stable/user_install.html\n",
      "  from .autonotebook import tqdm as notebook_tqdm\n"
     ]
    }
   ],
   "source": [
    "from src.ai_detector.detector import Detector\n",
    "from src.ai_detector.metrics import get_metrics\n",
    "from IPython.display import display, Markdown\n",
    "import pandas\n",
    "import glob\n",
    "import seaborn\n",
    "from tqdm import tqdm\n",
    "%reload_ext autoreload\n",
    "%autoreload 2"
   ]
  },
  {
   "cell_type": "code",
   "execution_count": 2,
   "metadata": {},
   "outputs": [
    {
     "name": "stderr",
     "output_type": "stream",
     "text": [
      "Loading checkpoint shards: 100%|██████████| 2/2 [00:04<00:00,  2.22s/it]\n",
      "Loading checkpoint shards: 100%|██████████| 2/2 [00:04<00:00,  2.15s/it]\n"
     ]
    }
   ],
   "source": [
    "detector = Detector(observer_name_or_path=\"google/gemma-2b\",\n",
    "              performer_name_or_path=\"google/gemma-2b-it\",\n",
    "              mode='accuracy',\n",
    "             )"
   ]
  },
  {
   "cell_type": "code",
   "execution_count": 26,
   "metadata": {},
   "outputs": [
    {
     "data": {
      "text/markdown": [
       " <span style='background-color: #FFFF00'>In</span> <span style='background-color: #FFFF00'>today</span> ' <span style='background-color: #FFFF00'>s</span> <span style='background-color: #FFFF00'>digital</span> <span style='background-color: #FFFF00'>landscape</span> , <span style='background-color: #FFFF00'>where</span> <span style='background-color: #FFFF00'>social</span> <span style='background-color: #FFFF00'>media</span> <span style='background-color: #FFFF00'>reigns</span> <span style='background-color: #FFFF00'>supreme</span> <span style='background-color: #FFFF00'>as</span> the <span style='background-color: #FFFF00'>epic</span> <span style='background-color: #FFFF00'>enter</span> of <span style='background-color: #FFFF00'>content</span> <span style='background-color: #FFFF00'>creation</span> , <span style='background-color: #FFFF00'>marketing</span> , and <span style='background-color: #FFFF00'>trend</span> <span style='background-color: #FFFF00'>tracking</span> , the <span style='background-color: #FFFF00'>pivotal</span> <span style='background-color: #FFFF00'>role</span> of <span style='background-color: #FFFF00'>video</span> <span style='background-color: #FFFF00'>content</span> <span style='background-color: #FFFF00'>cannot</span> <span style='background-color: #FFFF00'>be</span> <span style='background-color: #FFFF00'>over</span> <span style='background-color: #FFFF00'>stated</span> . <span style='background-color: #FFFF00'>Platforms</span> <span style='background-color: #FFFF00'>like</span> <span style='background-color: #FFFF00'>TikTok</span> <span style='background-color: #FFFF00'>have</span> <span style='background-color: #FFFF00'>revolution</span> <span style='background-color: #FFFF00'>ized</span> <span style='background-color: #FFFF00'>how</span> <span style='background-color: #FFFF00'>we</span> <span style='background-color: #FFFF00'>consume</span> and <span style='background-color: #FFFF00'>engage</span> with <span style='background-color: #FFFF00'>content</span> , <span style='background-color: #FFFF00'>presenting</span> <span style='background-color: #FFFF00'>both</span> <span style='background-color: #FFFF00'>challenges</span> and <span style='background-color: #FFFF00'>opportunities</span> for <span style='background-color: #FFFF00'>marketers</span> and <span style='background-color: #FFFF00'>creators</span> <span style='background-color: #FFFF00'>alike</span> . <span style='background-color: #FFFF00'>In</span> <span style='background-color: #FFFF00'>this</span> <span style='background-color: #FFFF00'>dynamic</span> <span style='background-color: #FFFF00'>environment</span> , <span style='background-color: #FFFF00'>deci</span> <span style='background-color: #FFFF00'>ph</span> <span style='background-color: #FFFF00'>ering</span> the <span style='background-color: #FFFF00'>nuances</span> of <span style='background-color: #FFFF00'>video</span> <span style='background-color: #FFFF00'>content</span> <span style='background-color: #FFFF00'>is</span> <span style='background-color: #FFFF00'>paramount</span> , <span style='background-color: #FFFF00'>as</span> <span style='background-color: #FFFF00'>it</span> <span style='background-color: #FFFF00'>is</span> <span style='background-color: #FFFF00'>key</span> to <span style='background-color: #FFFF00'>unlocking</span> <span style='background-color: #FFFF00'>audience</span> <span style='background-color: #FFFF00'>engagement</span> , <span style='background-color: #FFFF00'>driving</span> <span style='background-color: #FFFF00'>trends</span> , and <span style='background-color: #FFFF00'>shaping</span> <span style='background-color: #FFFF00'>brand</span> <span style='background-color: #FFFF00'>narratives</span> . <span style='background-color: #FFFF00'>Amid</span> <span style='background-color: #FFFF00'>st</span> the <span style='background-color: #FFFF00'>sheer</span> <span style='background-color: #FFFF00'>volume</span> of <span style='background-color: #FFFF00'>videos</span> <span style='background-color: #FFFF00'>flooding</span> <span style='background-color: #FFFF00'>these</span> <span style='background-color: #FFFF00'>platforms</span> <span style='background-color: #FFFF00'>daily</span> , the <span style='background-color: #FFFF00'>need</span> for <span style='background-color: #FFFF00'>sophisticated</span> <span style='background-color: #FFFF00'>video</span> <span style='background-color: #FFFF00'>understanding</span> <span style='background-color: #FFFF00'>tools</span> <span style='background-color: #FFFF00'>has</span> <span style='background-color: #FFFF00'>never</span> <span style='background-color: #FFFF00'>been</span> <span style='background-color: #FFFF00'>more</span> <span style='background-color: #FFFF00'>acute</span> . <span style='background-color: #FFFF00'>Beyond</span> <span style='background-color: #FFFF00'>simply</span> <span style='background-color: #FFFF00'>viewing</span> <span style='background-color: #FFFF00'>videos</span> , <span style='background-color: #FFFF00'>marketers</span> and <span style='background-color: #FFFF00'>content</span> <span style='background-color: #FFFF00'>creators</span> <span style='background-color: #FFFF00'>must</span> <span style='background-color: #FFFF00'>navigate</span> a <span style='background-color: #FFFF00'>complex</span> <span style='background-color: #FFFF00'>landscape</span> , <span style='background-color: #FFFF00'>deci</span> <span style='background-color: #FFFF00'>ph</span> <span style='background-color: #FFFF00'>ering</span> <span style='background-color: #FFFF00'>what</span> <span style='background-color: #FFFF00'>content</span> <span style='background-color: #FFFF00'>resonates</span> with <span style='background-color: #FFFF00'>audiences</span> and <span style='background-color: #FFFF00'>why</span> . <span style='background-color: #FFFF00'>This</span> <span style='background-color: #FFFF00'>requires</span> <span style='background-color: #FFFF00'>more</span> <span style='background-color: #FFFF00'>than</span> <span style='background-color: #FFFF00'>surface</span>  <span style='background-color: #FFFF00'>level</span> <span style='background-color: #FFFF00'>analysis</span> ; <span style='background-color: #FFFF00'>it</span> <span style='background-color: #FFFF00'>demands</span> a <span style='background-color: #FFFF00'>deep</span> <span style='background-color: #FFFF00'>understanding</span> of the <span style='background-color: #FFFF00'>underlying</span> <span style='background-color: #FFFF00'>patterns</span> , <span style='background-color: #FFFF00'>themes</span> , and <span style='background-color: #FFFF00'>emotions</span> <span style='background-color: #FFFF00'>that</span> <span style='background-color: #FFFF00'>drive</span> <span style='background-color: #FFFF00'>viewer</span> <span style='background-color: #FFFF00'>engagement</span> ."
      ],
      "text/plain": [
       "<IPython.core.display.Markdown object>"
      ]
     },
     "metadata": {},
     "output_type": "display_data"
    },
    {
     "name": "stdout",
     "output_type": "stream",
     "text": [
      "Score: 0.687, Confidence: 1.000, Prediction: AI-generated\n",
      "======================================================================\n"
     ]
    },
    {
     "data": {
      "text/markdown": [
       " <span style='background-color: #FFFF00'>Enter</span> <span style='background-color: #FFFF00'>video</span> <span style='background-color: #FFFF00'>understanding</span> <span style='background-color: #FFFF00'>technologies</span> . <span style='background-color: #FFFF00'>By</span> <span style='background-color: #FFFF00'>leveraging</span> <span style='background-color: #FFFF00'>intelligent</span> <span style='background-color: #FFFF00'>analysis</span> <span style='background-color: #FFFF00'>techniques</span> , <span style='background-color: #FFFF00'>these</span> <span style='background-color: #FFFF00'>tools</span> <span style='background-color: #FFFF00'>offer</span> <span style='background-color: #FFFF00'>marketers</span> and <span style='background-color: #FFFF00'>creators</span> a <span style='background-color: #FFFF00'>powerful</span> <span style='background-color: #FFFF00'>ally</span> in <span style='background-color: #FFFF00'>deci</span> <span style='background-color: #FFFF00'>ph</span> <span style='background-color: #FFFF00'>ering</span> the <span style='background-color: #FFFF00'>intricacies</span> of <span style='background-color: #FFFF00'>video</span> <span style='background-color: #FFFF00'>content</span> . <span style='background-color: #FFFF00'>From</span> <span style='background-color: #FFFF00'>sentiment</span> <span style='background-color: #FFFF00'>analysis</span> to <span style='background-color: #FFFF00'>trend</span> <span style='background-color: #FFFF00'>detection</span> , <span style='background-color: #FFFF00'>these</span> <span style='background-color: #FFFF00'>systems</span> <span style='background-color: #FFFF00'>can</span> <span style='background-color: #FFFF00'>uncover</span> <span style='background-color: #FFFF00'>valuable</span> <span style='background-color: #FFFF00'>insights</span> <span style='background-color: #FFFF00'>buried</span> <span style='background-color: #FFFF00'>within</span> the <span style='background-color: #FFFF00'>vast</span> <span style='background-color: #FFFF00'>sea</span> of <span style='background-color: #FFFF00'>videos</span> , <span style='background-color: #FFFF00'>enabling</span> <span style='background-color: #FFFF00'>users</span> to <span style='background-color: #FFFF00'>identify</span> <span style='background-color: #FFFF00'>emerging</span> <span style='background-color: #FFFF00'>trends</span> , <span style='background-color: #FFFF00'>understand</span> <span style='background-color: #FFFF00'>audience</span> <span style='background-color: #FFFF00'>preferences</span> , and <span style='background-color: #FFFF00'>craft</span> <span style='background-color: #FFFF00'>content</span> <span style='background-color: #FFFF00'>that</span> <span style='background-color: #FFFF00'>resonates</span> on a <span style='background-color: #FFFF00'>deeper</span> <span style='background-color: #FFFF00'>level</span> . <span style='background-color: #FFFF00'>As</span> <span style='background-color: #FFFF00'>shown</span> in the <span style='background-color: #FFFF00'>figure</span> <span style='background-color: #FFFF00'>below</span> , the <span style='background-color: #FFFF00'>landscape</span> of <span style='background-color: #FFFF00'>video</span> <span style='background-color: #FFFF00'>understanding</span> <span style='background-color: #FFFF00'>has</span> <span style='background-color: #FFFF00'>evolved</span> <span style='background-color: #FFFF00'>significantly</span> <span style='background-color: #FFFF00'>over</span> the <span style='background-color: #FFFF00'>past</span> <span style='background-color: #FFFF00'>few</span> <span style='background-color: #FFFF00'>years</span> ."
      ],
      "text/plain": [
       "<IPython.core.display.Markdown object>"
      ]
     },
     "metadata": {},
     "output_type": "display_data"
    },
    {
     "name": "stdout",
     "output_type": "stream",
     "text": [
      "Score: 0.694, Confidence: 1.000, Prediction: AI-generated\n",
      "======================================================================\n"
     ]
    }
   ],
   "source": [
    "doc =\"\"\"\n",
    "In recent years, we've witnessed a remarkable shift in the landscape of artificial intelligence, particularly with the advent of Generative AI (GenAI) and Large Language Models (LLMs). These technologies are not just transforming how we approach complex and open-ended tasks, but they're also reshaping the very foundations of knowledge work and quality assessment. Let's delve into the key aspects of this AI revolution.\n",
    "\"\"\"\n",
    "\n",
    "doc = '''\n",
    "We are witnessing a paradigm shift, as driving by this wave of Generative AI.  These new technologies are not only transforming how we approach complex and open-ended tasks with human natural language, but also reshaping our interactions with knowledge, in turn, influencing the evolution of AI itself. As knowledge workers, our adoption of LLMs is partly motivated by necessity, given that human labor is prohibitively difficult to scale. Traditional methods that rely on gold references or “vibe checks\" have become less effective at distinguishing good content from low-quality material.  In this blog, we will explore several tasks where we have innovated the usage of AI to improve efficiency and effectiveness. Also, address some of the difficulties we encounters, areas for improvement and potential opportunities for future.\n",
    "\n",
    "Data Annotation for model training\n",
    "Data quality is the determining factor in model quality. In the past, data collection and cleaning involved tedious, time-consuming processes with heavily humans involved. LLMs that trained with human feedback excel at mapping inputs to desired outputs. By leveraging LLMs, we have automated majority of the data annotation for NLP tasks such as Named Entity Recognition (NER) and Relation Extraction (RE). However, the LLMs are compelled to generate - even in the cases of insensible questions or null values - this can lead to low recall compared to human annotated data. One solution to address this overconfidence is to incentivize negative responses. \n",
    "\n",
    "A/B testing to benchmark models\n",
    "A/B testing is commonly used to compare two versions of products where there isn’t a ground truth or consensus. LLMs that are aligned with human preferences performs exceptionally well in these types of tasks. In selecting models for knowledge transferring,  we are left in the dark to select the right baseline to start with, due to the lack of transparency in pre-training and benchmarking of the foundational models. We adopt the A/B testing in model evaluation, that let the LLM chooses the preferred outcome. This strategy helps us identify best base models and hyperparameters during training. Nevertheless, the risk of validation with AI lies in that it works only with LLMs that are much more powerful than the examined models. With open-sourced models catching up, the reliability of this supervision decreases, and requires continuous human involvement.\n",
    "\n",
    "Contextual entity linking\n",
    "Disambiguate entities across different entity stores appears to be an unattainable task for a single model. Entity linking requires a system capable of managing the complexity. In our EL model development, the challenge arises from lack of  ground truth for training such system, along with varying formats of the incoming data. LLMs, with their language understanding capabilities, can disambiguate entities that may have different interpretations based on the context.  One caveat with the AI assisted entity linking is its lack of flexibility, as humans are required to define the  metrics. We are working on implementing the automated process where high-level instructions enable AI to dynamically determine which aspects to focus on when facing new scenarios and data deficiency. \n",
    "\n",
    "Open-ended RAG Evaluation\n",
    "Similar to the contextual entity linking, the sheer amount of data, the lack of ground truth or domain expert guidance, makes it difficult to evaluate a RAG pipeline, also has to account for the obsolete benchmark datasets. We have experimented with evaluation techniques aided by LLMs, and the results have been encouraging. It expedites 90% of the workflow by processing dense information. A highlight of the innovation is introducing an agentic workflow that dynamically selects the  search bases and evaluate both retrieval and generation. However, a potential risk with this hands-off experimentation is the danger of “not knowing what you don’t know”.\n",
    "\n",
    "Ontology Engineering\n",
    "Ontologies are structured frameworks for organizing information, often used in data integration, representation, and semantic web applications. Designing ontologies often requires domain expertises to understand related concepts. Generative AI can assist in analyzing existing datasets and suggesting structures based on patterns and relationships it identifies. It is worth noting that the design should always consider end-user applications and their preferences, which once again required human oversight and refinement of the framework.\n",
    "'''\n",
    "doc='''\n",
    "\n",
    "I am happy to join with you today in what will go down in history as the greatest demonstration for\n",
    "freedom in the history of our nation.\n",
    "Five score years ago a great American in whose symbolic shadow we stand today signed the\n",
    "Emancipation Proclamation. This momentous decree is a great beacon light of hope to millions of Negro\n",
    "slaves who had been seared in the flames of withering injustice. It came as a joyous daybreak to end the\n",
    "long night of their captivity. But 100 years later the Negro still is not free. One hundred years later the\n",
    "life of the Negro is still badly crippled by the manacles of segregation and the chains of discrimination.\n",
    "One hundred years later the Negro lives on a lonely island of poverty in the midst of a vast ocean of\n",
    "material prosperity. One hundred years later the Negro is still languished in the corners of American\n",
    "society and finds himself in exile in his own land. So we’ve come here today to dramatize a shameful\n",
    "condition.\n",
    "\n",
    "I say to you today, my friends, though, even though we face the difficulties of today and tomorrow, I still have a dream. It is a dream deeply rooted in the American dream. I have a dream that one day this nation will rise up, live out the true meaning of its creed: “We hold these truths to be self-evident, that all men are created equal.”\n",
    "\n",
    "I have a dream that one day on the red hills of Georgia sons of former slaves and the sons of former\n",
    "slave-owners will be able to sit down together at the table of brotherhood. I have a dream that one day\n",
    "even the state of Mississippi, a state sweltering with the heat of injustice, sweltering with the heat of\n",
    "oppression, will be transformed into an oasis of freedom and justice.\n",
    "\n",
    "I have a dream that my four little children will one day live in a nation where they will not be judged by\n",
    "the color of their skin but by the content of their character. I have a dream . . . I have a dream that one\n",
    "day in Alabama, with its vicious racists, with its governor having his lips dripping with the words of\n",
    "interposition and nullification, one day right there in Alabama little black boys and black girls will be able\n",
    "to join hands with little white boys and white girls as sisters and brothers.\n",
    "\n",
    "In recent years, we've witnessed a remarkable shift in the landscape of artificial intelligence, particularly with the advent of Generative AI (GenAI) and Large Language Models (LLMs). These technologies are not just transforming how we approach complex and open-ended tasks, but they're also reshaping the very foundations of knowledge work and quality assessment. Let's delve into the key aspects of this AI revolution.\n",
    "\n",
    "\n",
    "Data quality is the determining factor in model quality. In the past, data collection and cleaning involved tedious, time-consuming processes with humans heavily involved. LLMs that trained with human feedback excel at mapping inputs to desired outputs. By leveraging LLMs, we have automated majority of the data annotation for NLP tasks such as Named Entity Recognition (NER) and Relation Extraction (RE). However, the LLMs are compelled to generate - even in the cases of insufficient context information or ill-posed questions - this can lead to low recall compared to human annotation. One solution to address this overconfidence is to incentivize negative responses.\n",
    "\n",
    "\n",
    "A/B test is used to experiment on two versions of products where there isn’t a ground truth or consensus. LLMs that are aligned with human preferences perform exceptionally well in these types of tasks. In evaluating open-sourced models for our own knowledge functions, we are left in the dark to determine the right baseline to start with, due to the lack of transparency in pre-training and benchmarking of the foundational models. We adopt the A/B testing in model evaluation letting the LLM choose the preferred outcome. This strategy helps us identify the right base models and hyperparameters during training. Nevertheless, the risk of validation with AI lies in that it works only with LLMs that are much more powerful than the models under examination. With open-sourced models catching up, the reliability of this supervision decreases, and requires continuous human involvement.\n",
    "\n",
    "\n",
    "Disambiguating entities between entity stores and different sources appears to be an unattainable task for a single ML model. Entity linking requires a system capable of managing the complexity within the data. In our EL model development, the challenge arises from a lack of ground truth for training such system, along with varying formats of the incoming data. LLMs, with their superb language understanding capabilities, can disambiguate entities that may have different interpretations based on the context. One caveat with the AI assisted entity linking is its lack of flexibility, as humans are required to define the metrics. We are working on implementing the automated process where high-level instructions enable AI to determine which aspects to focus on when facing new scenarios and data deficiency.\n",
    "'''\n",
    "\n",
    "doc = '''\n",
    "Revolutionizing Video Summarization with Multimodal Language Model\n",
    "In the ever-expanding digital landscape, the sheer volume of video content on social media platforms like TikTok and Instagram presents a significant challenge. With countless hours of footage uploaded daily, efficiently extracting meaningful insights from these videos has become crucial for businesses, marketers, content creators, and researchers. \n",
    "Recently, advancements in Multimodal Large Language Models (MLLMs) have opened up new possibilities in the field of video processing. These models, traditionally known for their ability to integrate and understand textual and visual data, can be extended to the video domain with the goal of creating a seamless integration of visual, audio, and metadata  (such as hashtags and descriptions), resulting in more comprehensive video summaries that can capture the full context of the content.\n",
    "Generating Comprehensive Video Summaries:\n",
    "\n",
    "Video is a sum total of the visual, audio or even the textual content available in it. Unlike traditional summarization methods that focus solely on visual content, new approaches integrate audio and other available modalities within the video as well. This ensures that the summaries consist of  information about all the elements , offering a more complete understanding of the video’s content.\n",
    "Imagine a 30-second summary of a 10-minute video that captures all the essential elements—the key visuals, important dialogue, and even the contextual information from hashtags or descriptions. This kind of summary allows users to quickly grasp the essence of the video without having to watch the entire clip, making content more accessible and easier to digest.\n",
    "Extracting Key Features for Insightful Analysis:\n",
    "\n",
    "Beyond creating summaries, the focus can also be on extracting key features from videos. This feature extraction is crucial for providing deeper insights into video content. By identifying important objects, actions, and even sentiment within the audio, the technology empowers users to analyze content on a much more granular level.\n",
    "For marketers, this means quickly identifying trending topics or popular content themes. Content creators can use these insights to refine their strategies, ensuring their videos resonate with their audience. Researchers, on the other hand, can gain a deeper understanding of social media trends, user behavior, and the impact of various content types.\n",
    "Leveraging the Power of Multimodal Large Language Models:\n",
    "\n",
    "The backbone of these innovations lies in the capabilities of Multimodal Large Language Models. MLLMs are trained to process and integrate information from multiple data modalities—text, images, and audio—simultaneously. By integrating these different modalities, MLLMs understand and generate content that is contextually rich and semantically meaningful across different modalities. \n",
    "For example, consider a popular TikTok video featuring a viral dance, a trending song, and specific hashtags. A traditional text-based model might excel in generating coherent sentences but would struggle to understand the content of a video without accompanying text. An MLLM, however, can analyze the visual aspects of the video, interpret spoken words, and incorporate metadata (such as hashtags and descriptions) to produce a more comprehensive understanding of the content.\n",
    "Navigating the Fast-Paced World of Social Media:\n",
    "\n",
    "In the fast-paced world of social media, where trends can change in the blink of an eye, having tools that offer quick and accurate insights is invaluable. These advanced video summarization pipelines can be designed to help users navigate this dynamic environment with precision.\n",
    "For businesses, this means being able to quickly identify emerging trends and tailor their marketing strategies accordingly. Content creators can optimize their videos based on detailed feedback, ensuring they stay relevant and engaging. Researchers can analyze social media content with unprecedented depth, uncovering patterns and insights that were previously difficult to detect.\n",
    "The Future of Video Summarization:\n",
    "\n",
    "As the development of these video processing pipelines continues, the potential applications are vast. From improving content recommendations to enhancing search capabilities, the ability to generate comprehensive video summaries and extract key features is poised to transform how video content is consumed and analyzed.\n",
    "In summary, the integration of Multimodal Large Language Models into video processing represents a significant leap forward in making video content more accessible, understandable, and actionable. As this technology evolves, it promises to revolutionize the way marketers, content creators, and researchers interact with video content, providing them with the tools they need to succeed in an increasingly digital world.\n",
    "'''\n",
    "\n",
    "\n",
    "\n",
    "\n",
    "doc = '''\n",
    "You’ve likely seen the image, shared widely across X and Reddit. It presents a visual interperation: “There is more diversity of thoughts on the political Right than on the political Left.” The graph (Figure 1) depicts a network consisting of a small cluster of “Left” beliefs and a widely spread cluster of “Right” beliefs, suggesting the latter is more ideologically diverse.\n",
    "\n",
    "Although the political claim on social media is provocative. It is not the interest of this post, the intriguing parts are data and analysis that underpins it. So i dug into the original scientific publication and repeated the analyses. A close examination reveals that this figure is an interpretation of a flawed visualization.\n",
    "\n",
    "The analysis in the British Journal of Social Psychology paper (Lüders et al. 2024) uses a technique called a Response-Item Network (ResIN, Carpentras el al. 2021). It starts with standard survey data, where respondents choose an option from a scaled list (e.g., strongly agree, agree, neutral, disagree, strongly disagree). Here’s an unconventional step: instead of treating the answers a node taking ordinal values, the method breaks them apart. Each response to each item becomes its own independent node in a network. For example, a question on abortion with 5 possible answers results in five separate nodes. A survey with 10 questions would generate a complex network of 50 nodes.\n",
    "\n",
    "The connectivity, or edge weight, between any two nodes is determined by their correlation. Essentially, how many people in the survey selected those specific answers pair simultaneously. This co-occurrence correlation becomes the “edge strength.”\n",
    "\n",
    "This is where the viral image begins to unravel. Before stylizing the network to a graph. Let’s look at the underlying correlation data itself. The map below (Figure 2 top) shows the co-occurrence count between every pair of attitudes. The darker the square, the more frequently those two attitudes were chosen together. Note that lots of pair-attitudes have zero values, due to the fact they are mutual-exclusive responses to the same question.\n",
    "\n",
    "The attitudes have been ordered based on the respondents’ average rating towards the Republican Party (yes, this was another item-response in the survey), creating a rough Left-to-Right spectrum from top-left to bottom-right. Reading the heatmap, the attitudes associated with the Left (the top-left corner) form a dense block of dark blue, indicating a highly interconnected and consistent belief system. In contrast, the attitudes associated with the Right show less frequent co-occurrence. The responses appear more diffuse, not necessarily more “diverse” in the way one might think of a set of ideas, which would be another dense area on the correlation map.\n",
    "'''\n",
    "\n",
    "doc = '''\n",
    "In today's digital landscape, where social media reigns supreme as the epicenter of content creation, marketing, and trend tracking, the pivotal role of video content cannot be overstated. Platforms like TikTok have revolutionized how we consume and engage with content, presenting both challenges and opportunities for marketers and creators alike. In this dynamic environment, deciphering the nuances of video content is paramount, as it is key to unlocking audience engagement, driving trends, and shaping brand narratives. Amidst the sheer volume of videos flooding these platforms daily, the need for sophisticated video understanding tools has never been more acute. Beyond simply viewing videos, marketers and content creators must navigate a complex landscape, deciphering what content resonates with audiences and why. This requires more than surface-level analysis; it demands a deep understanding of the underlying patterns, themes, and emotions that drive viewer engagement.\n",
    "\n",
    "Enter video understanding technologies. By leveraging intelligent analysis techniques, these tools offer marketers and creators a powerful ally in deciphering the intricacies of video content. From sentiment analysis to trend detection, these systems can uncover valuable insights buried within the vast sea of videos, enabling users to identify emerging trends, understand audience preferences, and craft content that resonates on a deeper level. As shown in the figure below, the landscape of video understanding has evolved significantly over the past few years. \n",
    "'''\n",
    "\n",
    "texts = doc.split('\\n\\n')\n",
    "prediction=[]\n",
    "for text in texts:\n",
    "    text = text.strip()\n",
    "    if text:\n",
    "        result = detector.predict(text, display_text=False, color_threshold=0.001)\n",
    "        if result['prediction'].startswith('AI'):\n",
    "            display(Markdown(result['colored_text']))\n",
    "        else:\n",
    "            display(Markdown(result['text']))\n",
    "        \n",
    "        print(f\"Score: {result['score'] :.3f}, Confidence: {result['confidence']:.3f}, Prediction: {result['prediction']}\")\n",
    "        prediction.append(result)\n",
    "        print('='*70)\n",
    "        "
   ]
  },
  {
   "cell_type": "code",
   "execution_count": 56,
   "metadata": {
    "scrolled": true
   },
   "outputs": [
    {
     "data": {
      "text/plain": [
       "100"
      ]
     },
     "execution_count": 56,
     "metadata": {},
     "output_type": "execute_result"
    }
   ],
   "source": [
    "filenames = []\n",
    "for folder in ['gpt', 'human']:\n",
    "    filenames.extend(glob.glob(f'data/gptzero/{folder}/*.txt') )\n",
    "len(filenames)"
   ]
  },
  {
   "cell_type": "code",
   "execution_count": 57,
   "metadata": {
    "scrolled": true
   },
   "outputs": [
    {
     "name": "stderr",
     "output_type": "stream",
     "text": [
      "  0%|          | 0/100 [00:00<?, ?it/s]"
     ]
    },
    {
     "name": "stderr",
     "output_type": "stream",
     "text": [
      "100%|██████████| 100/100 [01:08<00:00,  1.46it/s]\n"
     ]
    },
    {
     "data": {
      "text/html": [
       "<div>\n",
       "<style scoped>\n",
       "    .dataframe tbody tr th:only-of-type {\n",
       "        vertical-align: middle;\n",
       "    }\n",
       "\n",
       "    .dataframe tbody tr th {\n",
       "        vertical-align: top;\n",
       "    }\n",
       "\n",
       "    .dataframe thead th {\n",
       "        text-align: right;\n",
       "    }\n",
       "</style>\n",
       "<table border=\"1\" class=\"dataframe\">\n",
       "  <thead>\n",
       "    <tr style=\"text-align: right;\">\n",
       "      <th></th>\n",
       "      <th>file</th>\n",
       "      <th>prediction</th>\n",
       "      <th>score</th>\n",
       "      <th>confidence</th>\n",
       "      <th>colored_text</th>\n",
       "      <th>text</th>\n",
       "      <th>True Label</th>\n",
       "      <th>pred</th>\n",
       "    </tr>\n",
       "  </thead>\n",
       "  <tbody>\n",
       "    <tr>\n",
       "      <th>0</th>\n",
       "      <td>data/gptzero/gpt/35.txt</td>\n",
       "      <td>AI-generated</td>\n",
       "      <td>0.836557</td>\n",
       "      <td>0.817215</td>\n",
       "      <td>&lt;span style='background-color: #FFFF00'&gt;Tweet...</td>\n",
       "      <td>Tweet: Study reveals that dogs can understand ...</td>\n",
       "      <td>AI</td>\n",
       "      <td>AI</td>\n",
       "    </tr>\n",
       "    <tr>\n",
       "      <th>1</th>\n",
       "      <td>data/gptzero/gpt/29.txt</td>\n",
       "      <td>AI-generated</td>\n",
       "      <td>0.748923</td>\n",
       "      <td>1.000000</td>\n",
       "      <td>&lt;span style='background-color: #90EE90'&gt;One&lt;/...</td>\n",
       "      <td>One craft that originated in Egypt is the art ...</td>\n",
       "      <td>AI</td>\n",
       "      <td>AI</td>\n",
       "    </tr>\n",
       "    <tr>\n",
       "      <th>2</th>\n",
       "      <td>data/gptzero/gpt/44.txt</td>\n",
       "      <td>AI-generated</td>\n",
       "      <td>0.660029</td>\n",
       "      <td>1.000000</td>\n",
       "      <td>&lt;span style='background-color: #90EE90'&gt;The&lt;/...</td>\n",
       "      <td>The technology of the future will change our l...</td>\n",
       "      <td>AI</td>\n",
       "      <td>AI</td>\n",
       "    </tr>\n",
       "    <tr>\n",
       "      <th>3</th>\n",
       "      <td>data/gptzero/gpt/28.txt</td>\n",
       "      <td>AI-generated</td>\n",
       "      <td>0.617701</td>\n",
       "      <td>1.000000</td>\n",
       "      <td># &lt;span style='background-color: #90EE90'&gt;The...</td>\n",
       "      <td># The Impact of Global Warming on the Environm...</td>\n",
       "      <td>AI</td>\n",
       "      <td>AI</td>\n",
       "    </tr>\n",
       "    <tr>\n",
       "      <th>4</th>\n",
       "      <td>data/gptzero/gpt/41.txt</td>\n",
       "      <td>AI-generated</td>\n",
       "      <td>0.737520</td>\n",
       "      <td>1.000000</td>\n",
       "      <td>&lt;span style='background-color: #90EE90'&gt;Tempe...</td>\n",
       "      <td>Temperature has a direct impact on the rate of...</td>\n",
       "      <td>AI</td>\n",
       "      <td>AI</td>\n",
       "    </tr>\n",
       "    <tr>\n",
       "      <th>...</th>\n",
       "      <td>...</td>\n",
       "      <td>...</td>\n",
       "      <td>...</td>\n",
       "      <td>...</td>\n",
       "      <td>...</td>\n",
       "      <td>...</td>\n",
       "      <td>...</td>\n",
       "      <td>...</td>\n",
       "    </tr>\n",
       "    <tr>\n",
       "      <th>95</th>\n",
       "      <td>data/gptzero/human/34.txt</td>\n",
       "      <td>Human-generated</td>\n",
       "      <td>0.933830</td>\n",
       "      <td>0.669148</td>\n",
       "      <td>&lt;span style='background-color: #90EE90'&gt;The&lt;/...</td>\n",
       "      <td>The thing I picked up on here is how you focus...</td>\n",
       "      <td>Human</td>\n",
       "      <td>Human</td>\n",
       "    </tr>\n",
       "    <tr>\n",
       "      <th>96</th>\n",
       "      <td>data/gptzero/human/1.txt</td>\n",
       "      <td>Human-generated</td>\n",
       "      <td>0.945026</td>\n",
       "      <td>0.725131</td>\n",
       "      <td>&lt;span style='background-color: #90EE90'&gt;A&lt;/sp...</td>\n",
       "      <td>A US bank has said it will donate more than $8...</td>\n",
       "      <td>Human</td>\n",
       "      <td>Human</td>\n",
       "    </tr>\n",
       "    <tr>\n",
       "      <th>97</th>\n",
       "      <td>data/gptzero/human/39.txt</td>\n",
       "      <td>Human-generated</td>\n",
       "      <td>0.970988</td>\n",
       "      <td>0.854941</td>\n",
       "      <td>It depends on the language . &lt;span style='bac...</td>\n",
       "      <td>It depends on the language. It’s basically wha...</td>\n",
       "      <td>Human</td>\n",
       "      <td>Human</td>\n",
       "    </tr>\n",
       "    <tr>\n",
       "      <th>98</th>\n",
       "      <td>data/gptzero/human/13.txt</td>\n",
       "      <td>Human-generated</td>\n",
       "      <td>0.959963</td>\n",
       "      <td>0.799814</td>\n",
       "      <td>&lt;span style='background-color: #90EE90'&gt;Ex&lt;/s...</td>\n",
       "      <td>Ex-No 10 media chief Alastair Campbell is at t...</td>\n",
       "      <td>Human</td>\n",
       "      <td>Human</td>\n",
       "    </tr>\n",
       "    <tr>\n",
       "      <th>99</th>\n",
       "      <td>data/gptzero/human/21.txt</td>\n",
       "      <td>Human-generated</td>\n",
       "      <td>0.914548</td>\n",
       "      <td>0.572742</td>\n",
       "      <td>&lt;span style='background-color: #90EE90'&gt;The&lt;/...</td>\n",
       "      <td>The London Stock Exchange (LSE) is planning to...</td>\n",
       "      <td>Human</td>\n",
       "      <td>Human</td>\n",
       "    </tr>\n",
       "  </tbody>\n",
       "</table>\n",
       "<p>100 rows × 8 columns</p>\n",
       "</div>"
      ],
      "text/plain": [
       "                         file       prediction     score  confidence  \\\n",
       "0     data/gptzero/gpt/35.txt     AI-generated  0.836557    0.817215   \n",
       "1     data/gptzero/gpt/29.txt     AI-generated  0.748923    1.000000   \n",
       "2     data/gptzero/gpt/44.txt     AI-generated  0.660029    1.000000   \n",
       "3     data/gptzero/gpt/28.txt     AI-generated  0.617701    1.000000   \n",
       "4     data/gptzero/gpt/41.txt     AI-generated  0.737520    1.000000   \n",
       "..                        ...              ...       ...         ...   \n",
       "95  data/gptzero/human/34.txt  Human-generated  0.933830    0.669148   \n",
       "96   data/gptzero/human/1.txt  Human-generated  0.945026    0.725131   \n",
       "97  data/gptzero/human/39.txt  Human-generated  0.970988    0.854941   \n",
       "98  data/gptzero/human/13.txt  Human-generated  0.959963    0.799814   \n",
       "99  data/gptzero/human/21.txt  Human-generated  0.914548    0.572742   \n",
       "\n",
       "                                         colored_text  \\\n",
       "0    <span style='background-color: #FFFF00'>Tweet...   \n",
       "1    <span style='background-color: #90EE90'>One</...   \n",
       "2    <span style='background-color: #90EE90'>The</...   \n",
       "3    # <span style='background-color: #90EE90'>The...   \n",
       "4    <span style='background-color: #90EE90'>Tempe...   \n",
       "..                                                ...   \n",
       "95   <span style='background-color: #90EE90'>The</...   \n",
       "96   <span style='background-color: #90EE90'>A</sp...   \n",
       "97   It depends on the language . <span style='bac...   \n",
       "98   <span style='background-color: #90EE90'>Ex</s...   \n",
       "99   <span style='background-color: #90EE90'>The</...   \n",
       "\n",
       "                                                 text True Label   pred  \n",
       "0   Tweet: Study reveals that dogs can understand ...         AI     AI  \n",
       "1   One craft that originated in Egypt is the art ...         AI     AI  \n",
       "2   The technology of the future will change our l...         AI     AI  \n",
       "3   # The Impact of Global Warming on the Environm...         AI     AI  \n",
       "4   Temperature has a direct impact on the rate of...         AI     AI  \n",
       "..                                                ...        ...    ...  \n",
       "95  The thing I picked up on here is how you focus...      Human  Human  \n",
       "96  A US bank has said it will donate more than $8...      Human  Human  \n",
       "97  It depends on the language. It’s basically wha...      Human  Human  \n",
       "98  Ex-No 10 media chief Alastair Campbell is at t...      Human  Human  \n",
       "99  The London Stock Exchange (LSE) is planning to...      Human  Human  \n",
       "\n",
       "[100 rows x 8 columns]"
      ]
     },
     "execution_count": 57,
     "metadata": {},
     "output_type": "execute_result"
    }
   ],
   "source": [
    "\n",
    "results = []\n",
    "for file in tqdm(filenames):\n",
    "    with open(file, 'r') as f:\n",
    "        lines = f.readlines()\n",
    "        text = ' '.join(lines)\n",
    "        results.append({'file':file} | detector.predict(text))\n",
    "\n",
    "df = pandas.DataFrame(results)\n",
    "df['True Label'] = df.file.apply(lambda x: 'Human' if x.split('/')[-2]=='human' else 'AI')\n",
    "df['pred'] = df.prediction.apply(lambda x: x.split('-')[0])\n",
    "df"
   ]
  },
  {
   "cell_type": "code",
   "execution_count": 58,
   "metadata": {},
   "outputs": [
    {
     "data": {
      "text/plain": [
       "{'precision': 0.9423,\n",
       " 'recall': 0.98,\n",
       " 'f1': 0.9608,\n",
       " 'accuracy': 0.96,\n",
       " 'auc_roc': 0.9876}"
      ]
     },
     "execution_count": 58,
     "metadata": {},
     "output_type": "execute_result"
    }
   ],
   "source": [
    "metrics = get_metrics(df['True Label'].tolist(),  df['pred'].tolist(), positive_label='AI')\n",
    "metrics['auc_roc'] = roc_auc_score([1 if l=='Human' else 0 for l in df['True Label'].tolist()], df['score'].tolist())\n",
    "metrics\n",
    "    "
   ]
  },
  {
   "cell_type": "code",
   "execution_count": 6,
   "metadata": {},
   "outputs": [
    {
     "name": "stdout",
     "output_type": "stream",
     "text": [
      "0.8383838383838385\n"
     ]
    }
   ],
   "source": [
    "labels = [1 if l=='Human' else 0 for l in df['True Label'].tolist()]\n",
    "scores = df['score'].tolist()\n",
    "\n",
    "detector.get_optimal_threshold(labels, scores, mode='accuracy')\n",
    "print(detector.threshold)"
   ]
  },
  {
   "cell_type": "code",
   "execution_count": 7,
   "metadata": {},
   "outputs": [
    {
     "data": {
      "text/html": [
       "<div>\n",
       "<style scoped>\n",
       "    .dataframe tbody tr th:only-of-type {\n",
       "        vertical-align: middle;\n",
       "    }\n",
       "\n",
       "    .dataframe tbody tr th {\n",
       "        vertical-align: top;\n",
       "    }\n",
       "\n",
       "    .dataframe thead th {\n",
       "        text-align: right;\n",
       "    }\n",
       "</style>\n",
       "<table border=\"1\" class=\"dataframe\">\n",
       "  <thead>\n",
       "    <tr style=\"text-align: right;\">\n",
       "      <th></th>\n",
       "      <th>file</th>\n",
       "      <th>prediction</th>\n",
       "      <th>score</th>\n",
       "      <th>confidence</th>\n",
       "      <th>colored_text</th>\n",
       "      <th>text</th>\n",
       "      <th>True Label</th>\n",
       "      <th>pred</th>\n",
       "    </tr>\n",
       "  </thead>\n",
       "  <tbody>\n",
       "    <tr>\n",
       "      <th>0</th>\n",
       "      <td>data/gptzero/gpt/35.txt</td>\n",
       "      <td>AI-generated</td>\n",
       "      <td>0.836557</td>\n",
       "      <td>0.817215</td>\n",
       "      <td>&lt;span style='background-color: #FFFF00'&gt;Tweet...</td>\n",
       "      <td>Tweet: Study reveals that dogs can understand ...</td>\n",
       "      <td>AI</td>\n",
       "      <td>AI</td>\n",
       "    </tr>\n",
       "    <tr>\n",
       "      <th>1</th>\n",
       "      <td>data/gptzero/gpt/29.txt</td>\n",
       "      <td>AI-generated</td>\n",
       "      <td>0.748923</td>\n",
       "      <td>1.000000</td>\n",
       "      <td>One craft that &lt;span style='background-color:...</td>\n",
       "      <td>One craft that originated in Egypt is the art ...</td>\n",
       "      <td>AI</td>\n",
       "      <td>AI</td>\n",
       "    </tr>\n",
       "    <tr>\n",
       "      <th>2</th>\n",
       "      <td>data/gptzero/gpt/44.txt</td>\n",
       "      <td>AI-generated</td>\n",
       "      <td>0.660029</td>\n",
       "      <td>1.000000</td>\n",
       "      <td>The technology of the future will change our ...</td>\n",
       "      <td>The technology of the future will change our l...</td>\n",
       "      <td>AI</td>\n",
       "      <td>AI</td>\n",
       "    </tr>\n",
       "    <tr>\n",
       "      <th>3</th>\n",
       "      <td>data/gptzero/gpt/28.txt</td>\n",
       "      <td>AI-generated</td>\n",
       "      <td>0.617701</td>\n",
       "      <td>1.000000</td>\n",
       "      <td># The &lt;span style='background-color: #FFFF00'...</td>\n",
       "      <td># The Impact of Global Warming on the Environm...</td>\n",
       "      <td>AI</td>\n",
       "      <td>AI</td>\n",
       "    </tr>\n",
       "    <tr>\n",
       "      <th>4</th>\n",
       "      <td>data/gptzero/gpt/41.txt</td>\n",
       "      <td>AI-generated</td>\n",
       "      <td>0.737520</td>\n",
       "      <td>1.000000</td>\n",
       "      <td>Temperature has a direct &lt;span style='backgro...</td>\n",
       "      <td>Temperature has a direct impact on the rate of...</td>\n",
       "      <td>AI</td>\n",
       "      <td>AI</td>\n",
       "    </tr>\n",
       "    <tr>\n",
       "      <th>...</th>\n",
       "      <td>...</td>\n",
       "      <td>...</td>\n",
       "      <td>...</td>\n",
       "      <td>...</td>\n",
       "      <td>...</td>\n",
       "      <td>...</td>\n",
       "      <td>...</td>\n",
       "      <td>...</td>\n",
       "    </tr>\n",
       "    <tr>\n",
       "      <th>95</th>\n",
       "      <td>data/gptzero/human/34.txt</td>\n",
       "      <td>Human-generated</td>\n",
       "      <td>0.933830</td>\n",
       "      <td>0.669148</td>\n",
       "      <td>The thing I &lt;span style='background-color: #F...</td>\n",
       "      <td>The thing I picked up on here is how you focus...</td>\n",
       "      <td>Human</td>\n",
       "      <td>Human</td>\n",
       "    </tr>\n",
       "    <tr>\n",
       "      <th>96</th>\n",
       "      <td>data/gptzero/human/1.txt</td>\n",
       "      <td>Human-generated</td>\n",
       "      <td>0.945026</td>\n",
       "      <td>0.725131</td>\n",
       "      <td>A US bank has said it will donate &lt;span style...</td>\n",
       "      <td>A US bank has said it will donate more than $8...</td>\n",
       "      <td>Human</td>\n",
       "      <td>Human</td>\n",
       "    </tr>\n",
       "    <tr>\n",
       "      <th>97</th>\n",
       "      <td>data/gptzero/human/39.txt</td>\n",
       "      <td>Human-generated</td>\n",
       "      <td>0.970988</td>\n",
       "      <td>0.854941</td>\n",
       "      <td>It depends on the language . It &lt;span style='...</td>\n",
       "      <td>It depends on the language. It’s basically wha...</td>\n",
       "      <td>Human</td>\n",
       "      <td>Human</td>\n",
       "    </tr>\n",
       "    <tr>\n",
       "      <th>98</th>\n",
       "      <td>data/gptzero/human/13.txt</td>\n",
       "      <td>Human-generated</td>\n",
       "      <td>0.959963</td>\n",
       "      <td>0.799814</td>\n",
       "      <td>Ex  No  1 0 media chief &lt;span style='backgrou...</td>\n",
       "      <td>Ex-No 10 media chief Alastair Campbell is at t...</td>\n",
       "      <td>Human</td>\n",
       "      <td>Human</td>\n",
       "    </tr>\n",
       "    <tr>\n",
       "      <th>99</th>\n",
       "      <td>data/gptzero/human/21.txt</td>\n",
       "      <td>Human-generated</td>\n",
       "      <td>0.914548</td>\n",
       "      <td>0.572742</td>\n",
       "      <td>The London &lt;span style='background-color: #FF...</td>\n",
       "      <td>The London Stock Exchange (LSE) is planning to...</td>\n",
       "      <td>Human</td>\n",
       "      <td>Human</td>\n",
       "    </tr>\n",
       "  </tbody>\n",
       "</table>\n",
       "<p>100 rows × 8 columns</p>\n",
       "</div>"
      ],
      "text/plain": [
       "                         file       prediction     score  confidence  \\\n",
       "0     data/gptzero/gpt/35.txt     AI-generated  0.836557    0.817215   \n",
       "1     data/gptzero/gpt/29.txt     AI-generated  0.748923    1.000000   \n",
       "2     data/gptzero/gpt/44.txt     AI-generated  0.660029    1.000000   \n",
       "3     data/gptzero/gpt/28.txt     AI-generated  0.617701    1.000000   \n",
       "4     data/gptzero/gpt/41.txt     AI-generated  0.737520    1.000000   \n",
       "..                        ...              ...       ...         ...   \n",
       "95  data/gptzero/human/34.txt  Human-generated  0.933830    0.669148   \n",
       "96   data/gptzero/human/1.txt  Human-generated  0.945026    0.725131   \n",
       "97  data/gptzero/human/39.txt  Human-generated  0.970988    0.854941   \n",
       "98  data/gptzero/human/13.txt  Human-generated  0.959963    0.799814   \n",
       "99  data/gptzero/human/21.txt  Human-generated  0.914548    0.572742   \n",
       "\n",
       "                                         colored_text  \\\n",
       "0    <span style='background-color: #FFFF00'>Tweet...   \n",
       "1    One craft that <span style='background-color:...   \n",
       "2    The technology of the future will change our ...   \n",
       "3    # The <span style='background-color: #FFFF00'...   \n",
       "4    Temperature has a direct <span style='backgro...   \n",
       "..                                                ...   \n",
       "95   The thing I <span style='background-color: #F...   \n",
       "96   A US bank has said it will donate <span style...   \n",
       "97   It depends on the language . It <span style='...   \n",
       "98   Ex  No  1 0 media chief <span style='backgrou...   \n",
       "99   The London <span style='background-color: #FF...   \n",
       "\n",
       "                                                 text True Label   pred  \n",
       "0   Tweet: Study reveals that dogs can understand ...         AI     AI  \n",
       "1   One craft that originated in Egypt is the art ...         AI     AI  \n",
       "2   The technology of the future will change our l...         AI     AI  \n",
       "3   # The Impact of Global Warming on the Environm...         AI     AI  \n",
       "4   Temperature has a direct impact on the rate of...         AI     AI  \n",
       "..                                                ...        ...    ...  \n",
       "95  The thing I picked up on here is how you focus...      Human  Human  \n",
       "96  A US bank has said it will donate more than $8...      Human  Human  \n",
       "97  It depends on the language. It’s basically wha...      Human  Human  \n",
       "98  Ex-No 10 media chief Alastair Campbell is at t...      Human  Human  \n",
       "99  The London Stock Exchange (LSE) is planning to...      Human  Human  \n",
       "\n",
       "[100 rows x 8 columns]"
      ]
     },
     "execution_count": 7,
     "metadata": {},
     "output_type": "execute_result"
    }
   ],
   "source": [
    "df['pred'] = df.apply(lambda x: 'AI' if x['score'] < detector.threshold else 'Human', axis=1)\n",
    "df"
   ]
  },
  {
   "cell_type": "code",
   "execution_count": null,
   "metadata": {},
   "outputs": [
    {
     "data": {
      "image/png": "[encoded data removed]",
      "text/plain": [
       "<Figure size 1200x800 with 1 Axes>"
      ]
     },
     "metadata": {},
     "output_type": "display_data"
    }
   ],
   "source": [
    "from sklearn.metrics import roc_auc_score, f1_score\n",
    "from matplotlib import pyplot as plt\n",
    "import seaborn\n",
    "\n",
    "fig = plt.figure(figsize=(6,4), dpi=200)\n",
    "\n",
    "metrics = get_metrics(df['True Label'].tolist(), df['pred'].tolist(), positive_label='AI')\n",
    "metrics['auc_roc'] = roc_auc_score([1 if l=='Human' else 0 for l in df['True Label'].tolist()], df['score'].tolist())\n",
    "\n",
    "seaborn.histplot(df, x='score', bins=25, hue='True Label')\n",
    "plt.title(f\"AI Content Detection \\nF1: {metrics['f1']:.3f}, Accuracy: {metrics['accuracy']:.3f}, ROC-AUC: {metrics['auc_roc']:.3f} \")\n",
    "plt.show()#plt.savefig('score.png', bbox_inches='tight')"
   ]
  },
  {
   "cell_type": "code",
   "execution_count": 3,
   "metadata": {},
   "outputs": [],
   "source": [
    "# all benchmark datasets"
   ]
  },
  {
   "cell_type": "code",
   "execution_count": 67,
   "metadata": {},
   "outputs": [
    {
     "data": {
      "text/html": [
       "<div>\n",
       "<style scoped>\n",
       "    .dataframe tbody tr th:only-of-type {\n",
       "        vertical-align: middle;\n",
       "    }\n",
       "\n",
       "    .dataframe tbody tr th {\n",
       "        vertical-align: top;\n",
       "    }\n",
       "\n",
       "    .dataframe thead th {\n",
       "        text-align: right;\n",
       "    }\n",
       "</style>\n",
       "<table border=\"1\" class=\"dataframe\">\n",
       "  <thead>\n",
       "    <tr style=\"text-align: right;\">\n",
       "      <th></th>\n",
       "      <th>text</th>\n",
       "      <th>True Label</th>\n",
       "    </tr>\n",
       "  </thead>\n",
       "  <tbody>\n",
       "    <tr>\n",
       "      <th>0</th>\n",
       "      <td>I don't know what Dr. Goldberg was like before...</td>\n",
       "      <td>Human</td>\n",
       "    </tr>\n",
       "    <tr>\n",
       "      <th>1</th>\n",
       "      <td>I'm writing this review to give you a heads up...</td>\n",
       "      <td>Human</td>\n",
       "    </tr>\n",
       "    <tr>\n",
       "      <th>2</th>\n",
       "      <td>Owning a driving range inside the city limits ...</td>\n",
       "      <td>Human</td>\n",
       "    </tr>\n",
       "    <tr>\n",
       "      <th>3</th>\n",
       "      <td>This place was DELICIOUS!!</td>\n",
       "      <td>Human</td>\n",
       "    </tr>\n",
       "    <tr>\n",
       "      <th>4</th>\n",
       "      <td>This place should have a lot more reviews - bu...</td>\n",
       "      <td>Human</td>\n",
       "    </tr>\n",
       "    <tr>\n",
       "      <th>...</th>\n",
       "      <td>...</td>\n",
       "      <td>...</td>\n",
       "    </tr>\n",
       "    <tr>\n",
       "      <th>395</th>\n",
       "      <td>Every time I go in, it's like a never-ending q...</td>\n",
       "      <td>AI</td>\n",
       "    </tr>\n",
       "    <tr>\n",
       "      <th>396</th>\n",
       "      <td>With its reputation for high-quality organic a...</td>\n",
       "      <td>AI</td>\n",
       "    </tr>\n",
       "    <tr>\n",
       "      <th>397</th>\n",
       "      <td>I decided to give it a try anyway and filled m...</td>\n",
       "      <td>AI</td>\n",
       "    </tr>\n",
       "    <tr>\n",
       "      <th>398</th>\n",
       "      <td>The moment I stepped in, the energy was palpab...</td>\n",
       "      <td>AI</td>\n",
       "    </tr>\n",
       "    <tr>\n",
       "      <th>399</th>\n",
       "      <td>The customer service is non-existent, with rud...</td>\n",
       "      <td>AI</td>\n",
       "    </tr>\n",
       "  </tbody>\n",
       "</table>\n",
       "<p>400 rows × 2 columns</p>\n",
       "</div>"
      ],
      "text/plain": [
       "                                                  text True Label\n",
       "0    I don't know what Dr. Goldberg was like before...      Human\n",
       "1    I'm writing this review to give you a heads up...      Human\n",
       "2    Owning a driving range inside the city limits ...      Human\n",
       "3                           This place was DELICIOUS!!      Human\n",
       "4    This place should have a lot more reviews - bu...      Human\n",
       "..                                                 ...        ...\n",
       "395  Every time I go in, it's like a never-ending q...         AI\n",
       "396  With its reputation for high-quality organic a...         AI\n",
       "397  I decided to give it a try anyway and filled m...         AI\n",
       "398  The moment I stepped in, the energy was palpab...         AI\n",
       "399  The customer service is non-existent, with rud...         AI\n",
       "\n",
       "[400 rows x 2 columns]"
      ]
     },
     "execution_count": 67,
     "metadata": {},
     "output_type": "execute_result"
    }
   ],
   "source": [
    "with open('data/m4/m4_dataset_raw/yelp_review_2800.json', 'r') as f:\n",
    "    data = json.load(f)\n",
    "\n",
    "df = pandas.DataFrame([{'text': d['start'], 'True Label': \"Human\"} for d in data][:200] + \\\n",
    "     [{'text': d['paraphrase_dipper_llm'], 'True Label': \"AI\"} for d in data if 'paraphrase_dipper_llm' in d][:200] )\n",
    "df"
   ]
  },
  {
   "cell_type": "code",
   "execution_count": 3,
   "metadata": {},
   "outputs": [
    {
     "name": "stderr",
     "output_type": "stream",
     "text": [
      "100%|██████████| 10/10 [00:00<00:00, 16994.75it/s]\n",
      "/tmp/ipykernel_646296/1391623426.py:17: SettingWithCopyWarning: \n",
      "A value is trying to be set on a copy of a slice from a DataFrame.\n",
      "Try using .loc[row_indexer,col_indexer] = value instead\n",
      "\n",
      "See the caveats in the documentation: https://pandas.pydata.org/pandas-docs/stable/user_guide/indexing.html#returning-a-view-versus-a-copy\n",
      "  _df['text'] = _df['texts'].apply(lambda x: [xx for xx in x.split('\\n') if xx.strip()])\n",
      "  0%|          | 0/37 [00:00<?, ?it/s]"
     ]
    },
    {
     "name": "stderr",
     "output_type": "stream",
     "text": [
      "100%|██████████| 37/37 [00:00<00:00, 38.08it/s]\n"
     ]
    },
    {
     "data": {
      "text/html": [
       "<div>\n",
       "<style scoped>\n",
       "    .dataframe tbody tr th:only-of-type {\n",
       "        vertical-align: middle;\n",
       "    }\n",
       "\n",
       "    .dataframe tbody tr th {\n",
       "        vertical-align: top;\n",
       "    }\n",
       "\n",
       "    .dataframe thead th {\n",
       "        text-align: right;\n",
       "    }\n",
       "</style>\n",
       "<table border=\"1\" class=\"dataframe\">\n",
       "  <thead>\n",
       "    <tr style=\"text-align: right;\">\n",
       "      <th></th>\n",
       "      <th>texts</th>\n",
       "      <th>True Label</th>\n",
       "      <th>file</th>\n",
       "      <th>text</th>\n",
       "    </tr>\n",
       "  </thead>\n",
       "  <tbody>\n",
       "    <tr>\n",
       "      <th>0</th>\n",
       "      <td>from this world. They have been causing chaos ...</td>\n",
       "      <td>AI</td>\n",
       "      <td>data/core/open_orca/carl-sagan-llama2-13b-chat...</td>\n",
       "      <td>from this world. They have been causing chaos ...</td>\n",
       "    </tr>\n",
       "    <tr>\n",
       "      <th>0</th>\n",
       "      <td>from this world. They have been causing chaos ...</td>\n",
       "      <td>AI</td>\n",
       "      <td>data/core/open_orca/carl-sagan-llama2-13b-chat...</td>\n",
       "      <td>Nate held onto her tightly, trying to calm her...</td>\n",
       "    </tr>\n",
       "    <tr>\n",
       "      <th>0</th>\n",
       "      <td>from this world. They have been causing chaos ...</td>\n",
       "      <td>AI</td>\n",
       "      <td>data/core/open_orca/carl-sagan-llama2-13b-chat...</td>\n",
       "      <td>The registrar, still bewildered by the sudden ...</td>\n",
       "    </tr>\n",
       "    <tr>\n",
       "      <th>0</th>\n",
       "      <td>from this world. They have been causing chaos ...</td>\n",
       "      <td>AI</td>\n",
       "      <td>data/core/open_orca/carl-sagan-llama2-13b-chat...</td>\n",
       "      <td>Natasha, her anger evident in her voice, stepp...</td>\n",
       "    </tr>\n",
       "    <tr>\n",
       "      <th>0</th>\n",
       "      <td>from this world. They have been causing chaos ...</td>\n",
       "      <td>AI</td>\n",
       "      <td>data/core/open_orca/carl-sagan-llama2-13b-chat...</td>\n",
       "      <td>The registrar's confusion turned into concern ...</td>\n",
       "    </tr>\n",
       "    <tr>\n",
       "      <th>...</th>\n",
       "      <td>...</td>\n",
       "      <td>...</td>\n",
       "      <td>...</td>\n",
       "      <td>...</td>\n",
       "    </tr>\n",
       "    <tr>\n",
       "      <th>29985</th>\n",
       "      <td>NaN</td>\n",
       "      <td>Human</td>\n",
       "      <td>data/m4/m4_dataset_raw/wikihow_chatGPT.csv</td>\n",
       "      <td>,,,,,,,,,,,,, If there is a shop locally with ...</td>\n",
       "    </tr>\n",
       "    <tr>\n",
       "      <th>29986</th>\n",
       "      <td>NaN</td>\n",
       "      <td>Human</td>\n",
       "      <td>data/m4/m4_dataset_raw/wikihow_chatGPT.csv</td>\n",
       "      <td>Make a \"C\" with your Index finger, Middle fin...</td>\n",
       "    </tr>\n",
       "    <tr>\n",
       "      <th>29987</th>\n",
       "      <td>NaN</td>\n",
       "      <td>Human</td>\n",
       "      <td>data/m4/m4_dataset_raw/wikihow_chatGPT.csv</td>\n",
       "      <td>Double click on Excel (either the green X on ...</td>\n",
       "    </tr>\n",
       "    <tr>\n",
       "      <th>29988</th>\n",
       "      <td>NaN</td>\n",
       "      <td>Human</td>\n",
       "      <td>data/m4/m4_dataset_raw/wikihow_chatGPT.csv</td>\n",
       "      <td>,,,,,,,,,,, The first example shown above will...</td>\n",
       "    </tr>\n",
       "    <tr>\n",
       "      <th>29989</th>\n",
       "      <td>NaN</td>\n",
       "      <td>Human</td>\n",
       "      <td>data/m4/m4_dataset_raw/wikihow_chatGPT.csv</td>\n",
       "      <td>\\n\\nSet Preferences: In General - Set Use R1C1...</td>\n",
       "    </tr>\n",
       "  </tbody>\n",
       "</table>\n",
       "<p>30184 rows × 4 columns</p>\n",
       "</div>"
      ],
      "text/plain": [
       "                                                   texts True Label  \\\n",
       "0      from this world. They have been causing chaos ...         AI   \n",
       "0      from this world. They have been causing chaos ...         AI   \n",
       "0      from this world. They have been causing chaos ...         AI   \n",
       "0      from this world. They have been causing chaos ...         AI   \n",
       "0      from this world. They have been causing chaos ...         AI   \n",
       "...                                                  ...        ...   \n",
       "29985                                                NaN      Human   \n",
       "29986                                                NaN      Human   \n",
       "29987                                                NaN      Human   \n",
       "29988                                                NaN      Human   \n",
       "29989                                                NaN      Human   \n",
       "\n",
       "                                                    file  \\\n",
       "0      data/core/open_orca/carl-sagan-llama2-13b-chat...   \n",
       "0      data/core/open_orca/carl-sagan-llama2-13b-chat...   \n",
       "0      data/core/open_orca/carl-sagan-llama2-13b-chat...   \n",
       "0      data/core/open_orca/carl-sagan-llama2-13b-chat...   \n",
       "0      data/core/open_orca/carl-sagan-llama2-13b-chat...   \n",
       "...                                                  ...   \n",
       "29985         data/m4/m4_dataset_raw/wikihow_chatGPT.csv   \n",
       "29986         data/m4/m4_dataset_raw/wikihow_chatGPT.csv   \n",
       "29987         data/m4/m4_dataset_raw/wikihow_chatGPT.csv   \n",
       "29988         data/m4/m4_dataset_raw/wikihow_chatGPT.csv   \n",
       "29989         data/m4/m4_dataset_raw/wikihow_chatGPT.csv   \n",
       "\n",
       "                                                    text  \n",
       "0      from this world. They have been causing chaos ...  \n",
       "0      Nate held onto her tightly, trying to calm her...  \n",
       "0      The registrar, still bewildered by the sudden ...  \n",
       "0      Natasha, her anger evident in her voice, stepp...  \n",
       "0      The registrar's confusion turned into concern ...  \n",
       "...                                                  ...  \n",
       "29985  ,,,,,,,,,,,,, If there is a shop locally with ...  \n",
       "29986   Make a \"C\" with your Index finger, Middle fin...  \n",
       "29987   Double click on Excel (either the green X on ...  \n",
       "29988  ,,,,,,,,,,, The first example shown above will...  \n",
       "29989  \\n\\nSet Preferences: In General - Set Use R1C1...  \n",
       "\n",
       "[30184 rows x 4 columns]"
      ]
     },
     "execution_count": 3,
     "metadata": {},
     "output_type": "execute_result"
    }
   ],
   "source": [
    "import glob, json\n",
    "\n",
    "filenames = []\n",
    "data = []\n",
    "for folder in ['open_orca','cc_news' , 'cnn', 'pubmed']:\n",
    "    filenames.extend(glob.glob(f'data/core/{folder}/*.jsonl') )\n",
    "\n",
    "for file in tqdm(filenames):\n",
    "    with open(file, 'r') as f:\n",
    "        json_data = json.loads(f.readline())\n",
    "        data.append(json_data|{'file':file} )\n",
    "\n",
    "data = pandas.DataFrame(data)\n",
    "data['texts'] = data[['response', 'text', 'article']].apply(lambda x: ' '.join(x.dropna()), axis=1)\n",
    "data['True Label'] = data.apply(lambda x: 'Human' if type(x['article'])==str else 'AI', axis=1)\n",
    "_df = data[['texts', 'True Label', 'file']]\n",
    "_df['text'] = _df['texts'].apply(lambda x: [xx for xx in x.split('\\n') if xx.strip()])\n",
    "df1 = _df.explode('text')\n",
    "\n",
    "filenames = glob.glob('data/m4/m4_dataset_raw/*.csv')\n",
    "data = []\n",
    "for file in tqdm(filenames):\n",
    "    if ('_chatGPT' in file or '_chatgpt' in file) and ('wiki' in file or 'reddit' in file or 'arxiv' in file):\n",
    "        _df = pandas.read_csv(file)\n",
    "        _df['file'] = file\n",
    "        data.extend( _df.to_dict(orient='records'))\n",
    "df2 = pandas.DataFrame([{'text': d['machine_text'], 'True Label': \"AI\", 'file': d['file']} for d in data] + \\\n",
    "     [{'text': d['human_text'], 'True Label': \"Human\", 'file': d['file']} for d in data] )\n",
    "\n",
    "df = pandas.concat([df1, df2])\n",
    "df"
   ]
  },
  {
   "cell_type": "code",
   "execution_count": 4,
   "metadata": {},
   "outputs": [
    {
     "data": {
      "text/plain": [
       "True Label\n",
       "Human    15103\n",
       "AI       15081\n",
       "Name: count, dtype: int64"
      ]
     },
     "execution_count": 4,
     "metadata": {},
     "output_type": "execute_result"
    }
   ],
   "source": [
    "df['True Label'].value_counts()"
   ]
  },
  {
   "cell_type": "code",
   "execution_count": 69,
   "metadata": {},
   "outputs": [],
   "source": [
    "df['prediction'] = [None]*len(df)\n",
    "df['score'] = [None]*len(df)\n",
    "df['confidence'] = [None]*len(df)"
   ]
  },
  {
   "cell_type": "code",
   "execution_count": 70,
   "metadata": {},
   "outputs": [
    {
     "name": "stderr",
     "output_type": "stream",
     "text": [
      "  0%|          | 0/40 [00:00<?, ?it/s]"
     ]
    },
    {
     "name": "stderr",
     "output_type": "stream",
     "text": [
      "100%|██████████| 40/40 [00:31<00:00,  1.28it/s]\n"
     ]
    }
   ],
   "source": [
    "batch_size = 10\n",
    "for start_idx in tqdm(range(0, len(df), batch_size)):\n",
    "    end_idx = start_idx + batch_size\n",
    "    batch_df = df.iloc[start_idx:end_idx]\n",
    "    try:\n",
    "        results = detector.predict(batch_df.text.tolist())\n",
    "        df.iloc[start_idx:end_idx, df.columns.get_loc('prediction')] = results['prediction']\n",
    "        df.iloc[start_idx:end_idx, df.columns.get_loc('score')] = results['score']\n",
    "        df.iloc[start_idx:end_idx, df.columns.get_loc('confidence')] = results['confidence']\n",
    "    except Exception as e:\n",
    "        print(e)\n",
    "        continue"
   ]
  },
  {
   "cell_type": "code",
   "execution_count": 72,
   "metadata": {},
   "outputs": [],
   "source": [
    "df['pred'] = df.prediction.apply(lambda x: x.split('-')[0])"
   ]
  },
  {
   "cell_type": "code",
   "execution_count": 73,
   "metadata": {},
   "outputs": [
    {
     "data": {
      "text/plain": [
       "{'precision': 0.9667,\n",
       " 'recall': 0.87,\n",
       " 'f1': 0.9158,\n",
       " 'accuracy': 0.92,\n",
       " 'auc_roc': 0.9866}"
      ]
     },
     "execution_count": 73,
     "metadata": {},
     "output_type": "execute_result"
    }
   ],
   "source": [
    "metrics = get_metrics(df['True Label'].tolist(), df['pred'].tolist(), positive_label='AI')\n",
    "metrics['auc_roc'] = roc_auc_score([1 if l=='Human' else 0 for l in df['True Label'].tolist()], df['score'].tolist())\n",
    "metrics"
   ]
  },
  {
   "cell_type": "code",
   "execution_count": null,
   "metadata": {},
   "outputs": [],
   "source": [
    "#df.to_pickle('data/benchmark_all.pkl')"
   ]
  },
  {
   "cell_type": "code",
   "execution_count": 59,
   "metadata": {},
   "outputs": [],
   "source": [
    "df = pandas.read_pickle('data/benchmark_all.pkl')\n",
    "df.dropna(subset=['prediction','score'], inplace=True)\n",
    "df.drop(columns=['texts'], inplace=True)\n",
    "df.reset_index(drop=True, inplace=True)\n",
    "df['pred'] = df.prediction.apply(lambda x: x.split('-')[0])"
   ]
  },
  {
   "cell_type": "code",
   "execution_count": 74,
   "metadata": {},
   "outputs": [
    {
     "ename": "AttributeError",
     "evalue": "'DataFrame' object has no attribute 'file'",
     "output_type": "error",
     "traceback": [
      "\u001b[31m---------------------------------------------------------------------------\u001b[39m",
      "\u001b[31mAttributeError\u001b[39m                            Traceback (most recent call last)",
      "\u001b[32m/tmp/ipykernel_646296/3318361220.py\u001b[39m in \u001b[36m?\u001b[39m\u001b[34m()\u001b[39m\n\u001b[32m     10\u001b[39m  \u001b[33m'accuracy'\u001b[39m: \u001b[32m0.92\u001b[39m,\n\u001b[32m     11\u001b[39m  \u001b[33m'auc_roc'\u001b[39m: \u001b[32m0.9866\u001b[39m}\n\u001b[32m     12\u001b[39m  ]\n\u001b[32m     13\u001b[39m \u001b[38;5;28;01mfor\u001b[39;00m dataset \u001b[38;5;28;01min\u001b[39;00m datasets:\n\u001b[32m---> \u001b[39m\u001b[32m14\u001b[39m     _df = df[df.file.str.contains(dataset)]\n\u001b[32m     15\u001b[39m     metrics = get_metrics(_df[\u001b[33m'True Label'\u001b[39m].tolist(),  _df[\u001b[33m'pred'\u001b[39m].tolist(), positive_label=\u001b[33m'AI'\u001b[39m)\n\u001b[32m     16\u001b[39m     metrics[\u001b[33m'auc_roc'\u001b[39m] = roc_auc_score([\u001b[32m1\u001b[39m \u001b[38;5;28;01mif\u001b[39;00m l==\u001b[33m'Human'\u001b[39m \u001b[38;5;28;01melse\u001b[39;00m \u001b[32m0\u001b[39m \u001b[38;5;28;01mfor\u001b[39;00m l \u001b[38;5;28;01min\u001b[39;00m _df[\u001b[33m'True Label'\u001b[39m].tolist()], _df[\u001b[33m'score'\u001b[39m].tolist())\n\u001b[32m     17\u001b[39m     scores.append({\u001b[33m'dataset'\u001b[39m: dataset}|metrics)\n",
      "\u001b[32m~/anaconda3/envs/graphDL/lib/python3.12/site-packages/pandas/core/generic.py\u001b[39m in \u001b[36m?\u001b[39m\u001b[34m(self, name)\u001b[39m\n\u001b[32m   6314\u001b[39m             \u001b[38;5;28;01mand\u001b[39;00m name \u001b[38;5;28;01mnot\u001b[39;00m \u001b[38;5;28;01min\u001b[39;00m self._accessors\n\u001b[32m   6315\u001b[39m             \u001b[38;5;28;01mand\u001b[39;00m self._info_axis._can_hold_identifiers_and_holds_name(name)\n\u001b[32m   6316\u001b[39m         ):\n\u001b[32m   6317\u001b[39m             \u001b[38;5;28;01mreturn\u001b[39;00m self[name]\n\u001b[32m-> \u001b[39m\u001b[32m6318\u001b[39m         \u001b[38;5;28;01mreturn\u001b[39;00m object.__getattribute__(self, name)\n",
      "\u001b[31mAttributeError\u001b[39m: 'DataFrame' object has no attribute 'file'"
     ]
    }
   ],
   "source": [
    "datasets = ['reddit', 'arxiv', 'wiki']\n",
    "scores = [{'dataset':'GPTZero', 'precision': 0.9423,\n",
    " 'recall': 0.98,\n",
    " 'f1': 0.9608,\n",
    " 'accuracy': 0.96,\n",
    " 'auc_roc': 0.9876},\n",
    " {'dataset':'Yelp', 'precision': 0.9667,\n",
    " 'recall': 0.87,\n",
    " 'f1': 0.9158,\n",
    " 'accuracy': 0.92,\n",
    " 'auc_roc': 0.9866}\n",
    " ]\n",
    "for dataset in datasets:\n",
    "    _df = df[df.file.str.contains(dataset)]\n",
    "    metrics = get_metrics(_df['True Label'].tolist(),  _df['pred'].tolist(), positive_label='AI')\n",
    "    metrics['auc_roc'] = roc_auc_score([1 if l=='Human' else 0 for l in _df['True Label'].tolist()], _df['score'].tolist())\n",
    "    scores.append({'dataset': dataset}|metrics)\n",
    "\n",
    "pandas.DataFrame(scores)\n"
   ]
  },
  {
   "cell_type": "code",
   "execution_count": 44,
   "metadata": {},
   "outputs": [
    {
     "data": {
      "image/png": "[encoded data removed]",
      "text/plain": [
       "<Figure size 900x600 with 1 Axes>"
      ]
     },
     "metadata": {},
     "output_type": "display_data"
    }
   ],
   "source": [
    "from sklearn.metrics import roc_auc_score, f1_score\n",
    "from matplotlib import pyplot as plt\n",
    "import seaborn\n",
    "\n",
    "\n",
    "fig = plt.figure(figsize=(6,4), dpi=150)\n",
    "\n",
    "metrics = get_metrics(df['True Label'].tolist(), df['pred'].tolist(), positive_label='AI')\n",
    "metrics['auc_roc'] = roc_auc_score([1 if l=='Human' else 0 for l in df['True Label'].tolist()], df['score'].tolist())\n",
    "\n",
    "# y axis in log scale\n",
    "\n",
    "seaborn.histplot(df, x='score', bins=50, hue='True Label')\n",
    "plt.xlim(0.5, 1.5)\n",
    "\n",
    "plt.title(f\"Reddit \\nF1: {metrics['f1']:.3f}, Accuracy: {metrics['accuracy']:.3f}, ROC-AUC: {metrics['auc_roc']:.3f} \", fontsize=10)\n",
    "#plt.show()\n",
    "plt.savefig('data/benchmark_all.png', dpi=150, bbox_inches='tight')"
   ]
  },
  {
   "cell_type": "code",
   "execution_count": 17,
   "metadata": {},
   "outputs": [
    {
     "data": {
      "text/markdown": [
       " <span style='background-color: #90EE90'>In</span> <span style='background-color: #FFFF00'>today</span> ' s digital <span style='background-color: #FFFF00'>landscape</span> , <span style='background-color: #90EE90'>where</span> <span style='background-color: #FFFF00'>social</span> <span style='background-color: #90EE90'>media</span> <span style='background-color: #FFFF00'>reigns</span> <span style='background-color: #90EE90'>supreme</span> as the <span style='background-color: #FFFF00'>epic</span> enter of content <span style='background-color: #90EE90'>creation</span> , marketing , and <span style='background-color: #90EE90'>trend</span> <span style='background-color: #FFFF00'>tracking</span> , the <span style='background-color: #FFFF00'>pivotal</span> role of video content <span style='background-color: #FFFF00'>cannot</span> be <span style='background-color: #FFFF00'>over</span> <span style='background-color: #FFFF00'>stated</span> . <span style='background-color: #FFFF00'>Platforms</span> <span style='background-color: #90EE90'>like</span> <span style='background-color: #90EE90'>TikTok</span> <span style='background-color: #90EE90'>have</span> <span style='background-color: #FFFF00'>revolution</span> ized how we consume and <span style='background-color: #FFFF00'>engage</span> with <span style='background-color: #FFFF00'>content</span> , <span style='background-color: #90EE90'>presenting</span> <span style='background-color: #90EE90'>both</span> <span style='background-color: #FFFF00'>challenges</span> and opportunities for marketers and creators <span style='background-color: #FFFF00'>alike</span> . In this dynamic <span style='background-color: #FFFF00'>environment</span> , <span style='background-color: #FFFF00'>deci</span> <span style='background-color: #FFFF00'>ph</span> ering the nuances of video content <span style='background-color: #90EE90'>is</span> <span style='background-color: #90EE90'>paramount</span> , as it <span style='background-color: #90EE90'>is</span> <span style='background-color: #FFFF00'>key</span> to <span style='background-color: #90EE90'>unlocking</span> audience engagement , <span style='background-color: #90EE90'>driving</span> <span style='background-color: #FFFF00'>trends</span> , and shaping brand narratives . Amid st the sheer volume of <span style='background-color: #90EE90'>videos</span> <span style='background-color: #90EE90'>flooding</span> these platforms <span style='background-color: #FFFF00'>daily</span> , the need for sophisticated <span style='background-color: #90EE90'>video</span> <span style='background-color: #90EE90'>understanding</span> tools has <span style='background-color: #FFFF00'>never</span> <span style='background-color: #90EE90'>been</span> <span style='background-color: #90EE90'>more</span> <span style='background-color: #FFFF00'>acute</span> . Beyond <span style='background-color: #90EE90'>simply</span> <span style='background-color: #90EE90'>viewing</span> videos , marketers and <span style='background-color: #FFFF00'>content</span> <span style='background-color: #90EE90'>creators</span> <span style='background-color: #90EE90'>must</span> navigate a complex <span style='background-color: #90EE90'>landscape</span> , <span style='background-color: #FFFF00'>deci</span> <span style='background-color: #FFFF00'>ph</span> <span style='background-color: #90EE90'>ering</span> what content resonates with audiences and why . This <span style='background-color: #90EE90'>requires</span> <span style='background-color: #FFFF00'>more</span> <span style='background-color: #90EE90'>than</span> <span style='background-color: #FFFF00'>surface</span>  level analysis ; it demands a deep <span style='background-color: #FFFF00'>understanding</span> of the <span style='background-color: #90EE90'>underlying</span> patterns , <span style='background-color: #FFFF00'>themes</span> , and emotions that drive viewer engagement"
      ],
      "text/plain": [
       "<IPython.core.display.Markdown object>"
      ]
     },
     "metadata": {},
     "output_type": "display_data"
    },
    {
     "name": "stdout",
     "output_type": "stream",
     "text": [
      "Score: 0.687, Confidence: 1.000, Prediction: AI-generated\n",
      "======================================================================\n"
     ]
    },
    {
     "data": {
      "text/markdown": [
       " <span style='background-color: #90EE90'>Enter</span> <span style='background-color: #90EE90'>video</span> <span style='background-color: #90EE90'>understanding</span> technologies . By <span style='background-color: #90EE90'>leveraging</span> <span style='background-color: #90EE90'>intelligent</span> analysis techniques , <span style='background-color: #90EE90'>these</span> <span style='background-color: #90EE90'>tools</span> <span style='background-color: #90EE90'>offer</span> marketers and creators a <span style='background-color: #90EE90'>powerful</span> ally in <span style='background-color: #FFFF00'>deci</span> <span style='background-color: #FFFF00'>ph</span> ering the <span style='background-color: #FFFF00'>intricacies</span> of <span style='background-color: #FFFF00'>video</span> content . <span style='background-color: #90EE90'>From</span> <span style='background-color: #FFFF00'>sentiment</span> analysis to trend detection , <span style='background-color: #90EE90'>these</span> systems can uncover <span style='background-color: #FFFF00'>valuable</span> <span style='background-color: #90EE90'>insights</span> <span style='background-color: #FFFF00'>buried</span> within the vast <span style='background-color: #FFFF00'>sea</span> of videos , enabling <span style='background-color: #FFFF00'>users</span> to <span style='background-color: #90EE90'>identify</span> <span style='background-color: #FFFF00'>emerging</span> trends , understand audience <span style='background-color: #FFFF00'>preferences</span> , and craft <span style='background-color: #FFFF00'>content</span> <span style='background-color: #FFFF00'>that</span> <span style='background-color: #90EE90'>resonates</span> on a <span style='background-color: #FFFF00'>deeper</span> <span style='background-color: #FFFF00'>level</span> . <span style='background-color: #90EE90'>As</span> shown in the figure <span style='background-color: #FFFF00'>below</span> , the <span style='background-color: #FFFF00'>landscape</span> of video <span style='background-color: #90EE90'>understanding</span> has evolved significantly <span style='background-color: #FFFF00'>over</span> the past few years"
      ],
      "text/plain": [
       "<IPython.core.display.Markdown object>"
      ]
     },
     "metadata": {},
     "output_type": "display_data"
    },
    {
     "name": "stdout",
     "output_type": "stream",
     "text": [
      "Score: 0.694, Confidence: 1.000, Prediction: AI-generated\n",
      "======================================================================\n"
     ]
    }
   ],
   "source": [
    "doc = '''\n",
    "In today's digital landscape, where social media reigns supreme as the epicenter of content creation, marketing, and trend tracking, the pivotal role of video content cannot be overstated. Platforms like TikTok have revolutionized how we consume and engage with content, presenting both challenges and opportunities for marketers and creators alike. In this dynamic environment, deciphering the nuances of video content is paramount, as it is key to unlocking audience engagement, driving trends, and shaping brand narratives. Amidst the sheer volume of videos flooding these platforms daily, the need for sophisticated video understanding tools has never been more acute. Beyond simply viewing videos, marketers and content creators must navigate a complex landscape, deciphering what content resonates with audiences and why. This requires more than surface-level analysis; it demands a deep understanding of the underlying patterns, themes, and emotions that drive viewer engagement.\n",
    "\n",
    "Enter video understanding technologies. By leveraging intelligent analysis techniques, these tools offer marketers and creators a powerful ally in deciphering the intricacies of video content. From sentiment analysis to trend detection, these systems can uncover valuable insights buried within the vast sea of videos, enabling users to identify emerging trends, understand audience preferences, and craft content that resonates on a deeper level. As shown in the figure below, the landscape of video understanding has evolved significantly over the past few years. \n",
    "'''\n",
    "\n",
    "texts = doc.split('\\n\\n')\n",
    "prediction=[]\n",
    "for text in texts:\n",
    "    text = text.strip()\n",
    "    if text:\n",
    "        result = detector.predict(text, display_text=False, color_threshold=0.01)\n",
    "        if result['prediction'].startswith('AI'):\n",
    "            display(Markdown(result['colored_text']))\n",
    "        else:\n",
    "            display(Markdown(result['text']))\n",
    "        \n",
    "        print(f\"Score: {result['score'] :.3f}, Confidence: {result['confidence']:.3f}, Prediction: {result['prediction']}\")\n",
    "        prediction.append(result)\n",
    "        print('='*70)"
   ]
  },
  {
   "cell_type": "code",
   "execution_count": null,
   "metadata": {},
   "outputs": [],
   "source": []
  }
 ],
 "metadata": {
  "kernelspec": {
   "display_name": "Python 3",
   "language": "python",
   "name": "python3"
  },
  "language_info": {
   "codemirror_mode": {
    "name": "ipython",
    "version": 3
   },
   "file_extension": ".py",
   "mimetype": "text/x-python",
   "name": "python",
   "nbconvert_exporter": "python",
   "pygments_lexer": "ipython3",
   "version": "3.12.11"
  }
 },
 "nbformat": 4,
 "nbformat_minor": 4
}
