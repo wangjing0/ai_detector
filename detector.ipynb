{
 "cells": [
  {
   "cell_type": "code",
   "execution_count": 11,
   "metadata": {},
   "outputs": [],
   "source": [
    "#%pip install --upgrade huggingface_hub"
   ]
  },
  {
   "cell_type": "code",
   "execution_count": 7,
   "metadata": {},
   "outputs": [
    {
     "name": "stdout",
     "output_type": "stream",
     "text": [
      "\u001b[33m⚠️  Warning: 'huggingface-cli scan-cache' is deprecated. Use 'hf cache scan' instead.\u001b[0m\n",
      "REPO ID                                     REPO TYPE REVISION                                 SIZE ON DISK NB FILES LAST_MODIFIED REFS LOCAL PATH                                                                                                                                  \n",
      "------------------------------------------- --------- ---------------------------------------- ------------ -------- ------------- ---- ------------------------------------------------------------------------------------------------------------------------------------------- \n",
      "Linq-AI-Research/FinanceRAG                 dataset   ba6f7470152e76b389ad48e3997f15381e6aecae        19.3M       16 9 months ago  main /home/ubuntu/.cache/huggingface/hub/datasets--Linq-AI-Research--FinanceRAG/snapshots/ba6f7470152e76b389ad48e3997f15381e6aecae               \n",
      "autogluon/chronos_datasets                  dataset   eeecad0b82a8c237e212ce6f8d1abecb513e2cec       379.3K        2 4 weeks ago   main /home/ubuntu/.cache/huggingface/hub/datasets--autogluon--chronos_datasets/snapshots/eeecad0b82a8c237e212ce6f8d1abecb513e2cec                \n",
      "inria-soda/carte-benchmark                  dataset   4900bff4a845e1757f4fb4183f2ad68f6860642d         2.7M        2 3 weeks ago   main /home/ubuntu/.cache/huggingface/hub/datasets--inria-soda--carte-benchmark/snapshots/4900bff4a845e1757f4fb4183f2ad68f6860642d                \n",
      "colbert-ir/colbertv2.0                      model     c1e84128e85ef755c096a95bdb06b47793b13acf       439.0M        6 9 months ago  main /home/ubuntu/.cache/huggingface/hub/models--colbert-ir--colbertv2.0/snapshots/c1e84128e85ef755c096a95bdb06b47793b13acf                      \n",
      "google/gemma-2b                             model     9cf48e52b224239de00d483ec8eb84fb8d0f3a3a         5.0G        9 4 days ago    main /home/ubuntu/.cache/huggingface/hub/models--google--gemma-2b/snapshots/9cf48e52b224239de00d483ec8eb84fb8d0f3a3a                             \n",
      "google/gemma-2b-it                          model     96988410cbdaeb8d5093d1ebdc5a8fb563e02bad         5.0G        9 4 days ago    main /home/ubuntu/.cache/huggingface/hub/models--google--gemma-2b-it/snapshots/96988410cbdaeb8d5093d1ebdc5a8fb563e02bad                          \n",
      "google/paligemma-3b-mix-448                 model     ead2d9a35598cb89119af004f5d023b311d1c4a1        11.7G       12 10 months ago main /home/ubuntu/.cache/huggingface/hub/models--google--paligemma-3b-mix-448/snapshots/ead2d9a35598cb89119af004f5d023b311d1c4a1                 \n",
      "google-t5/t5-small                          model     df1b051c49625cf57a3d0d8d3863ed4d13564fe4       244.2M        5 1 year ago    main /home/ubuntu/.cache/huggingface/hub/models--google-t5--t5-small/snapshots/df1b051c49625cf57a3d0d8d3863ed4d13564fe4                          \n",
      "sentence-transformers/all-MiniLM-L6-v2      model     8b3219a92973c328a8e22fadcfa821b5dc75636a        91.6M       11 10 months ago      /home/ubuntu/.cache/huggingface/hub/models--sentence-transformers--all-MiniLM-L6-v2/snapshots/8b3219a92973c328a8e22fadcfa821b5dc75636a      \n",
      "sentence-transformers/all-MiniLM-L6-v2      model     c9745ed1d9f207416be6d2e6f8de32d1f16199bf        91.6M       11 4 days ago    main /home/ubuntu/.cache/huggingface/hub/models--sentence-transformers--all-MiniLM-L6-v2/snapshots/c9745ed1d9f207416be6d2e6f8de32d1f16199bf      \n",
      "sentence-transformers/all-mpnet-base-v2     model     84f2bcc00d77236f9e89c8a360a00fb1139bf47d       438.7M       11 1 year ago    main /home/ubuntu/.cache/huggingface/hub/models--sentence-transformers--all-mpnet-base-v2/snapshots/84f2bcc00d77236f9e89c8a360a00fb1139bf47d     \n",
      "t5-small                                    model     df1b051c49625cf57a3d0d8d3863ed4d13564fe4         2.2M        4 9 months ago  main /home/ubuntu/.cache/huggingface/hub/models--t5-small/snapshots/df1b051c49625cf57a3d0d8d3863ed4d13564fe4                                     \n",
      "unsloth/Meta-Llama-3.1-8B-Instruct-bnb-4bit model     f15c379fb32bb402fa06a7ae9aecb1febf4b79ec         5.7G        6 5 days ago    main /home/ubuntu/.cache/huggingface/hub/models--unsloth--Meta-Llama-3.1-8B-Instruct-bnb-4bit/snapshots/f15c379fb32bb402fa06a7ae9aecb1febf4b79ec \n",
      "unsloth/Meta-Llama-3.1-8B-bnb-4bit          model     70d37f62f4f475a5a42dbbd5b7aad38f420e0960         5.7G        6 5 days ago    main /home/ubuntu/.cache/huggingface/hub/models--unsloth--Meta-Llama-3.1-8B-bnb-4bit/snapshots/70d37f62f4f475a5a42dbbd5b7aad38f420e0960          \n",
      "unslothai/1                                 model     7ec782b7604cd9ea0781c23a4270f031650f5617        814.0        2 4 months ago  main /home/ubuntu/.cache/huggingface/hub/models--unslothai--1/snapshots/7ec782b7604cd9ea0781c23a4270f031650f5617                                 \n",
      "unslothai/lambda                            model     d508d227b9e1298d9e968ad6ea13572c7e0da4f6        811.0        2 8 months ago  main /home/ubuntu/.cache/huggingface/hub/models--unslothai--lambda/snapshots/d508d227b9e1298d9e968ad6ea13572c7e0da4f6                            \n",
      "unslothai/other                             model     43d9e0f2f19a5d7836895f648dc0e762816acf77        635.0        1 4 months ago  main /home/ubuntu/.cache/huggingface/hub/models--unslothai--other/snapshots/43d9e0f2f19a5d7836895f648dc0e762816acf77                             \n",
      "unslothai/repeat                            model     7c48478c02f84ed89f149b0815cc0216ee831fb0        811.0        2 10 months ago main /home/ubuntu/.cache/huggingface/hub/models--unslothai--repeat/snapshots/7c48478c02f84ed89f149b0815cc0216ee831fb0                            \n",
      "vidore/colpali                              model     2d345a64b81c56037fc2907c7d0fb59795101cbe       100.9M        8 10 months ago      /home/ubuntu/.cache/huggingface/hub/models--vidore--colpali/snapshots/2d345a64b81c56037fc2907c7d0fb59795101cbe                              \n",
      "vidore/colpali                              model     468f4eba01d8eab241b42773ad6018b8c901cb34       100.9M        8 10 months ago      /home/ubuntu/.cache/huggingface/hub/models--vidore--colpali/snapshots/468f4eba01d8eab241b42773ad6018b8c901cb34                              \n",
      "vidore/colpali                              model     55e76ff047b92147638dbdd7aa541b721f794be1       100.9M        8 10 months ago      /home/ubuntu/.cache/huggingface/hub/models--vidore--colpali/snapshots/55e76ff047b92147638dbdd7aa541b721f794be1                              \n",
      "vidore/colpali                              model     662f85b4c8e97e0bd08c038b7b5f5dbb7da5221f       100.9M        8 11 months ago      /home/ubuntu/.cache/huggingface/hub/models--vidore--colpali/snapshots/662f85b4c8e97e0bd08c038b7b5f5dbb7da5221f                              \n",
      "vidore/colpali                              model     82b73faebcbdd2f2009ada076b22fb85d3b63665       100.9M        8 10 months ago main /home/ubuntu/.cache/huggingface/hub/models--vidore--colpali/snapshots/82b73faebcbdd2f2009ada076b22fb85d3b63665                              \n",
      "vidore/colqwen2-v1.0                        model     83a0134c8f274b3688d8dbde26de8a5b109ad8b4        89.9M       10 6 weeks ago   main /home/ubuntu/.cache/huggingface/hub/models--vidore--colqwen2-v1.0/snapshots/83a0134c8f274b3688d8dbde26de8a5b109ad8b4                        \n",
      "\n",
      "Done in 0.0s. Scanned 19 repo(s) for a total of \u001b[1m\u001b[31m34.7G\u001b[0m.\n",
      "\u001b[90mGot 9 warning(s) while scanning.\u001b[0m\n",
      "\u001b[90mSnapshots dir doesn't exist in cached repo: /home/ubuntu/.cache/huggingface/hub/models--jingwang--foo/snapshots\u001b[0m\n",
      "\u001b[90mRepo path is not a directory: /home/ubuntu/.cache/huggingface/hub/tmpz3tkfdcz\u001b[0m\n",
      "\u001b[90mRepo path is not a directory: /home/ubuntu/.cache/huggingface/hub/version.txt\u001b[0m\n",
      "\u001b[90mRepo path is not a directory: /home/ubuntu/.cache/huggingface/hub/version_diffusers_cache.txt\u001b[0m\n",
      "\u001b[90mRepo path is not a directory: /home/ubuntu/.cache/huggingface/hub/tmpvbgkrzjj\u001b[0m\n",
      "\u001b[90mRepo path is not a directory: /home/ubuntu/.cache/huggingface/hub/tmpg48k4he1\u001b[0m\n",
      "\u001b[90mRepo path is not a directory: /home/ubuntu/.cache/huggingface/hub/tmpf1sy3iob\u001b[0m\n",
      "\u001b[90mRepo path is not a directory: /home/ubuntu/.cache/huggingface/hub/tmpuc36zy9x\u001b[0m\n",
      "\u001b[90mRepo path is not a directory: /home/ubuntu/.cache/huggingface/hub/tmpnqo51e3_\u001b[0m\n"
     ]
    }
   ],
   "source": [
    "from huggingface_hub import scan_cache_dir, hf_hub_download\n",
    "\n",
    "!huggingface-cli scan-cache -vvv"
   ]
  },
  {
   "cell_type": "code",
   "execution_count": 4,
   "metadata": {},
   "outputs": [],
   "source": [
    "scan_cache_dir().delete_revisions(\n",
    "'dbd91bbaf64a0e591f4340ce8b66fd1dba9ab6bd',\n",
    ").execute()"
   ]
  },
  {
   "cell_type": "code",
   "execution_count": 3,
   "metadata": {},
   "outputs": [
    {
     "data": {
      "text/plain": [
       "'/home/ubuntu/Jing/Detector'"
      ]
     },
     "execution_count": 3,
     "metadata": {},
     "output_type": "execute_result"
    }
   ],
   "source": [
    "import os\n",
    "os.getcwd()"
   ]
  },
  {
   "cell_type": "code",
   "execution_count": 1,
   "metadata": {},
   "outputs": [
    {
     "name": "stdout",
     "output_type": "stream",
     "text": [
      "/home/ubuntu/anaconda3/envs/graphDL/bin/python\n"
     ]
    }
   ],
   "source": [
    "!which python"
   ]
  },
  {
   "cell_type": "code",
   "execution_count": 2,
   "metadata": {},
   "outputs": [
    {
     "name": "stderr",
     "output_type": "stream",
     "text": [
      "/home/ubuntu/.local/lib/python3.12/site-packages/tqdm/auto.py:21: TqdmWarning: IProgress not found. Please update jupyter and ipywidgets. See https://ipywidgets.readthedocs.io/en/stable/user_install.html\n",
      "  from .autonotebook import tqdm as notebook_tqdm\n"
     ]
    }
   ],
   "source": [
    "from src.ai_detector.detector import Detector\n",
    "from IPython.display import display, Markdown\n",
    "import pandas\n",
    "import glob\n",
    "import seaborn\n",
    "from tqdm import tqdm\n",
    "%reload_ext autoreload\n",
    "%autoreload 2"
   ]
  },
  {
   "cell_type": "code",
   "execution_count": 4,
   "metadata": {},
   "outputs": [
    {
     "name": "stderr",
     "output_type": "stream",
     "text": [
      "Loading checkpoint shards: 100%|██████████| 2/2 [00:04<00:00,  2.25s/it]\n",
      "Loading checkpoint shards: 100%|██████████| 2/2 [00:04<00:00,  2.26s/it]\n"
     ]
    }
   ],
   "source": [
    "detector = Detector(observer_name_or_path=\"google/gemma-2b\",\n",
    "              performer_name_or_path=\"google/gemma-2b-it\",\n",
    "              mode='accuracy',\n",
    "             )"
   ]
  },
  {
   "cell_type": "code",
   "execution_count": 5,
   "metadata": {},
   "outputs": [
    {
     "data": {
      "text/markdown": [
       " In <span style='background-color: #FFFF00'>today</span> ' s digital <span style='background-color: #FFFF00'>landscape</span> , where <span style='background-color: #FFFF00'>social</span> media <span style='background-color: #FFFF00'>reigns</span> supreme as the <span style='background-color: #FFFF00'>epic</span> enter of content creation , marketing , and trend <span style='background-color: #FFFF00'>tracking</span> , the <span style='background-color: #FFFF00'>pivotal</span> role of video content <span style='background-color: #FFFF00'>cannot</span> be <span style='background-color: #FFFF00'>over</span> <span style='background-color: #FFFF00'>stated</span> . <span style='background-color: #FFFF00'>Platforms</span> like TikTok have <span style='background-color: #FFFF00'>revolution</span> ized how we consume and <span style='background-color: #FFFF00'>engage</span> with <span style='background-color: #FFFF00'>content</span> , presenting both <span style='background-color: #FFFF00'>challenges</span> and opportunities for marketers and creators <span style='background-color: #FFFF00'>alike</span> . In this dynamic <span style='background-color: #FFFF00'>environment</span> , <span style='background-color: #FFFF00'>deci</span> <span style='background-color: #FFFF00'>ph</span> ering the nuances of video content is paramount , as it is <span style='background-color: #FFFF00'>key</span> to unlocking audience engagement , driving <span style='background-color: #FFFF00'>trends</span> , and shaping brand narratives . Amid st the sheer volume of videos flooding these platforms <span style='background-color: #FFFF00'>daily</span> , the need for sophisticated video understanding tools has <span style='background-color: #FFFF00'>never</span> been more <span style='background-color: #FFFF00'>acute</span> . Beyond simply viewing videos , marketers and <span style='background-color: #FFFF00'>content</span> creators must navigate a complex landscape , <span style='background-color: #FFFF00'>deci</span> <span style='background-color: #FFFF00'>ph</span> ering what content resonates with audiences and why . This requires <span style='background-color: #FFFF00'>more</span> than <span style='background-color: #FFFF00'>surface</span>  level analysis ; it demands a deep <span style='background-color: #FFFF00'>understanding</span> of the underlying patterns , <span style='background-color: #FFFF00'>themes</span> , and emotions that drive viewer engagement"
      ],
      "text/plain": [
       "<IPython.core.display.Markdown object>"
      ]
     },
     "metadata": {},
     "output_type": "display_data"
    },
    {
     "name": "stdout",
     "output_type": "stream",
     "text": [
      "Score: 0.687, Confidence: 1.000, Prediction: AI-generated\n",
      "======================================================================\n"
     ]
    },
    {
     "data": {
      "text/markdown": [
       " Enter video understanding technologies . By leveraging intelligent analysis techniques , these tools offer marketers and creators a powerful ally in <span style='background-color: #FFFF00'>deci</span> <span style='background-color: #FFFF00'>ph</span> ering the <span style='background-color: #FFFF00'>intricacies</span> of <span style='background-color: #FFFF00'>video</span> content . From <span style='background-color: #FFFF00'>sentiment</span> analysis to trend detection , these systems can uncover <span style='background-color: #FFFF00'>valuable</span> insights <span style='background-color: #FFFF00'>buried</span> within the vast <span style='background-color: #FFFF00'>sea</span> of videos , enabling <span style='background-color: #FFFF00'>users</span> to identify <span style='background-color: #FFFF00'>emerging</span> trends , understand audience <span style='background-color: #FFFF00'>preferences</span> , and craft <span style='background-color: #FFFF00'>content</span> <span style='background-color: #FFFF00'>that</span> resonates on a <span style='background-color: #FFFF00'>deeper</span> <span style='background-color: #FFFF00'>level</span> . As shown in the figure <span style='background-color: #FFFF00'>below</span> , the <span style='background-color: #FFFF00'>landscape</span> of video understanding has evolved significantly <span style='background-color: #FFFF00'>over</span> the past few years"
      ],
      "text/plain": [
       "<IPython.core.display.Markdown object>"
      ]
     },
     "metadata": {},
     "output_type": "display_data"
    },
    {
     "name": "stdout",
     "output_type": "stream",
     "text": [
      "Score: 0.694, Confidence: 1.000, Prediction: AI-generated\n",
      "======================================================================\n"
     ]
    }
   ],
   "source": [
    "doc =\"\"\"\n",
    "In recent years, we've witnessed a remarkable shift in the landscape of artificial intelligence, particularly with the advent of Generative AI (GenAI) and Large Language Models (LLMs). These technologies are not just transforming how we approach complex and open-ended tasks, but they're also reshaping the very foundations of knowledge work and quality assessment. Let's delve into the key aspects of this AI revolution.\n",
    "\"\"\"\n",
    "\n",
    "doc = '''\n",
    "We are witnessing a paradigm shift, as driving by this wave of Generative AI.  These new technologies are not only transforming how we approach complex and open-ended tasks with human natural language, but also reshaping our interactions with knowledge, in turn, influencing the evolution of AI itself. As knowledge workers, our adoption of LLMs is partly motivated by necessity, given that human labor is prohibitively difficult to scale. Traditional methods that rely on gold references or “vibe checks\" have become less effective at distinguishing good content from low-quality material.  In this blog, we will explore several tasks where we have innovated the usage of AI to improve efficiency and effectiveness. Also, address some of the difficulties we encounters, areas for improvement and potential opportunities for future.\n",
    "\n",
    "Data Annotation for model training\n",
    "Data quality is the determining factor in model quality. In the past, data collection and cleaning involved tedious, time-consuming processes with heavily humans involved. LLMs that trained with human feedback excel at mapping inputs to desired outputs. By leveraging LLMs, we have automated majority of the data annotation for NLP tasks such as Named Entity Recognition (NER) and Relation Extraction (RE). However, the LLMs are compelled to generate - even in the cases of insensible questions or null values - this can lead to low recall compared to human annotated data. One solution to address this overconfidence is to incentivize negative responses. \n",
    "\n",
    "A/B testing to benchmark models\n",
    "A/B testing is commonly used to compare two versions of products where there isn’t a ground truth or consensus. LLMs that are aligned with human preferences performs exceptionally well in these types of tasks. In selecting models for knowledge transferring,  we are left in the dark to select the right baseline to start with, due to the lack of transparency in pre-training and benchmarking of the foundational models. We adopt the A/B testing in model evaluation, that let the LLM chooses the preferred outcome. This strategy helps us identify best base models and hyperparameters during training. Nevertheless, the risk of validation with AI lies in that it works only with LLMs that are much more powerful than the examined models. With open-sourced models catching up, the reliability of this supervision decreases, and requires continuous human involvement.\n",
    "\n",
    "Contextual entity linking\n",
    "Disambiguate entities across different entity stores appears to be an unattainable task for a single model. Entity linking requires a system capable of managing the complexity. In our EL model development, the challenge arises from lack of  ground truth for training such system, along with varying formats of the incoming data. LLMs, with their language understanding capabilities, can disambiguate entities that may have different interpretations based on the context.  One caveat with the AI assisted entity linking is its lack of flexibility, as humans are required to define the  metrics. We are working on implementing the automated process where high-level instructions enable AI to dynamically determine which aspects to focus on when facing new scenarios and data deficiency. \n",
    "\n",
    "Open-ended RAG Evaluation\n",
    "Similar to the contextual entity linking, the sheer amount of data, the lack of ground truth or domain expert guidance, makes it difficult to evaluate a RAG pipeline, also has to account for the obsolete benchmark datasets. We have experimented with evaluation techniques aided by LLMs, and the results have been encouraging. It expedites 90% of the workflow by processing dense information. A highlight of the innovation is introducing an agentic workflow that dynamically selects the  search bases and evaluate both retrieval and generation. However, a potential risk with this hands-off experimentation is the danger of “not knowing what you don’t know”.\n",
    "\n",
    "Ontology Engineering\n",
    "Ontologies are structured frameworks for organizing information, often used in data integration, representation, and semantic web applications. Designing ontologies often requires domain expertises to understand related concepts. Generative AI can assist in analyzing existing datasets and suggesting structures based on patterns and relationships it identifies. It is worth noting that the design should always consider end-user applications and their preferences, which once again required human oversight and refinement of the framework.\n",
    "'''\n",
    "doc='''\n",
    "\n",
    "I am happy to join with you today in what will go down in history as the greatest demonstration for\n",
    "freedom in the history of our nation.\n",
    "Five score years ago a great American in whose symbolic shadow we stand today signed the\n",
    "Emancipation Proclamation. This momentous decree is a great beacon light of hope to millions of Negro\n",
    "slaves who had been seared in the flames of withering injustice. It came as a joyous daybreak to end the\n",
    "long night of their captivity. But 100 years later the Negro still is not free. One hundred years later the\n",
    "life of the Negro is still badly crippled by the manacles of segregation and the chains of discrimination.\n",
    "One hundred years later the Negro lives on a lonely island of poverty in the midst of a vast ocean of\n",
    "material prosperity. One hundred years later the Negro is still languished in the corners of American\n",
    "society and finds himself in exile in his own land. So we’ve come here today to dramatize a shameful\n",
    "condition.\n",
    "\n",
    "I say to you today, my friends, though, even though we face the difficulties of today and tomorrow, I still have a dream. It is a dream deeply rooted in the American dream. I have a dream that one day this nation will rise up, live out the true meaning of its creed: “We hold these truths to be self-evident, that all men are created equal.”\n",
    "\n",
    "I have a dream that one day on the red hills of Georgia sons of former slaves and the sons of former\n",
    "slave-owners will be able to sit down together at the table of brotherhood. I have a dream that one day\n",
    "even the state of Mississippi, a state sweltering with the heat of injustice, sweltering with the heat of\n",
    "oppression, will be transformed into an oasis of freedom and justice.\n",
    "\n",
    "I have a dream that my four little children will one day live in a nation where they will not be judged by\n",
    "the color of their skin but by the content of their character. I have a dream . . . I have a dream that one\n",
    "day in Alabama, with its vicious racists, with its governor having his lips dripping with the words of\n",
    "interposition and nullification, one day right there in Alabama little black boys and black girls will be able\n",
    "to join hands with little white boys and white girls as sisters and brothers.\n",
    "\n",
    "In recent years, we've witnessed a remarkable shift in the landscape of artificial intelligence, particularly with the advent of Generative AI (GenAI) and Large Language Models (LLMs). These technologies are not just transforming how we approach complex and open-ended tasks, but they're also reshaping the very foundations of knowledge work and quality assessment. Let's delve into the key aspects of this AI revolution.\n",
    "\n",
    "\n",
    "Data quality is the determining factor in model quality. In the past, data collection and cleaning involved tedious, time-consuming processes with humans heavily involved. LLMs that trained with human feedback excel at mapping inputs to desired outputs. By leveraging LLMs, we have automated majority of the data annotation for NLP tasks such as Named Entity Recognition (NER) and Relation Extraction (RE). However, the LLMs are compelled to generate - even in the cases of insufficient context information or ill-posed questions - this can lead to low recall compared to human annotation. One solution to address this overconfidence is to incentivize negative responses.\n",
    "\n",
    "\n",
    "A/B test is used to experiment on two versions of products where there isn’t a ground truth or consensus. LLMs that are aligned with human preferences perform exceptionally well in these types of tasks. In evaluating open-sourced models for our own knowledge functions, we are left in the dark to determine the right baseline to start with, due to the lack of transparency in pre-training and benchmarking of the foundational models. We adopt the A/B testing in model evaluation letting the LLM choose the preferred outcome. This strategy helps us identify the right base models and hyperparameters during training. Nevertheless, the risk of validation with AI lies in that it works only with LLMs that are much more powerful than the models under examination. With open-sourced models catching up, the reliability of this supervision decreases, and requires continuous human involvement.\n",
    "\n",
    "\n",
    "Disambiguating entities between entity stores and different sources appears to be an unattainable task for a single ML model. Entity linking requires a system capable of managing the complexity within the data. In our EL model development, the challenge arises from a lack of ground truth for training such system, along with varying formats of the incoming data. LLMs, with their superb language understanding capabilities, can disambiguate entities that may have different interpretations based on the context. One caveat with the AI assisted entity linking is its lack of flexibility, as humans are required to define the metrics. We are working on implementing the automated process where high-level instructions enable AI to determine which aspects to focus on when facing new scenarios and data deficiency.\n",
    "'''\n",
    "\n",
    "doc = '''\n",
    "Revolutionizing Video Summarization with Multimodal Language Model\n",
    "In the ever-expanding digital landscape, the sheer volume of video content on social media platforms like TikTok and Instagram presents a significant challenge. With countless hours of footage uploaded daily, efficiently extracting meaningful insights from these videos has become crucial for businesses, marketers, content creators, and researchers. \n",
    "Recently, advancements in Multimodal Large Language Models (MLLMs) have opened up new possibilities in the field of video processing. These models, traditionally known for their ability to integrate and understand textual and visual data, can be extended to the video domain with the goal of creating a seamless integration of visual, audio, and metadata  (such as hashtags and descriptions), resulting in more comprehensive video summaries that can capture the full context of the content.\n",
    "Generating Comprehensive Video Summaries:\n",
    "\n",
    "Video is a sum total of the visual, audio or even the textual content available in it. Unlike traditional summarization methods that focus solely on visual content, new approaches integrate audio and other available modalities within the video as well. This ensures that the summaries consist of  information about all the elements , offering a more complete understanding of the video’s content.\n",
    "Imagine a 30-second summary of a 10-minute video that captures all the essential elements—the key visuals, important dialogue, and even the contextual information from hashtags or descriptions. This kind of summary allows users to quickly grasp the essence of the video without having to watch the entire clip, making content more accessible and easier to digest.\n",
    "Extracting Key Features for Insightful Analysis:\n",
    "\n",
    "Beyond creating summaries, the focus can also be on extracting key features from videos. This feature extraction is crucial for providing deeper insights into video content. By identifying important objects, actions, and even sentiment within the audio, the technology empowers users to analyze content on a much more granular level.\n",
    "For marketers, this means quickly identifying trending topics or popular content themes. Content creators can use these insights to refine their strategies, ensuring their videos resonate with their audience. Researchers, on the other hand, can gain a deeper understanding of social media trends, user behavior, and the impact of various content types.\n",
    "Leveraging the Power of Multimodal Large Language Models:\n",
    "\n",
    "The backbone of these innovations lies in the capabilities of Multimodal Large Language Models. MLLMs are trained to process and integrate information from multiple data modalities—text, images, and audio—simultaneously. By integrating these different modalities, MLLMs understand and generate content that is contextually rich and semantically meaningful across different modalities. \n",
    "For example, consider a popular TikTok video featuring a viral dance, a trending song, and specific hashtags. A traditional text-based model might excel in generating coherent sentences but would struggle to understand the content of a video without accompanying text. An MLLM, however, can analyze the visual aspects of the video, interpret spoken words, and incorporate metadata (such as hashtags and descriptions) to produce a more comprehensive understanding of the content.\n",
    "Navigating the Fast-Paced World of Social Media:\n",
    "\n",
    "In the fast-paced world of social media, where trends can change in the blink of an eye, having tools that offer quick and accurate insights is invaluable. These advanced video summarization pipelines can be designed to help users navigate this dynamic environment with precision.\n",
    "For businesses, this means being able to quickly identify emerging trends and tailor their marketing strategies accordingly. Content creators can optimize their videos based on detailed feedback, ensuring they stay relevant and engaging. Researchers can analyze social media content with unprecedented depth, uncovering patterns and insights that were previously difficult to detect.\n",
    "The Future of Video Summarization:\n",
    "\n",
    "As the development of these video processing pipelines continues, the potential applications are vast. From improving content recommendations to enhancing search capabilities, the ability to generate comprehensive video summaries and extract key features is poised to transform how video content is consumed and analyzed.\n",
    "In summary, the integration of Multimodal Large Language Models into video processing represents a significant leap forward in making video content more accessible, understandable, and actionable. As this technology evolves, it promises to revolutionize the way marketers, content creators, and researchers interact with video content, providing them with the tools they need to succeed in an increasingly digital world.\n",
    "'''\n",
    "\n",
    "\n",
    "\n",
    "\n",
    "doc = '''\n",
    "You’ve likely seen the image, shared widely across X and Reddit. It presents a visual interperation: “There is more diversity of thoughts on the political Right than on the political Left.” The graph (Figure 1) depicts a network consisting of a small cluster of “Left” beliefs and a widely spread cluster of “Right” beliefs, suggesting the latter is more ideologically diverse.\n",
    "\n",
    "Although the political claim on social media is provocative. It is not the interest of this post, the intriguing parts are data and analysis that underpins it. So i dug into the original scientific publication and repeated the analyses. A close examination reveals that this figure is an interpretation of a flawed visualization.\n",
    "\n",
    "The analysis in the British Journal of Social Psychology paper (Lüders et al. 2024) uses a technique called a Response-Item Network (ResIN, Carpentras el al. 2021). It starts with standard survey data, where respondents choose an option from a scaled list (e.g., strongly agree, agree, neutral, disagree, strongly disagree). Here’s an unconventional step: instead of treating the answers a node taking ordinal values, the method breaks them apart. Each response to each item becomes its own independent node in a network. For example, a question on abortion with 5 possible answers results in five separate nodes. A survey with 10 questions would generate a complex network of 50 nodes.\n",
    "\n",
    "The connectivity, or edge weight, between any two nodes is determined by their correlation. Essentially, how many people in the survey selected those specific answers pair simultaneously. This co-occurrence correlation becomes the “edge strength.”\n",
    "\n",
    "This is where the viral image begins to unravel. Before stylizing the network to a graph. Let’s look at the underlying correlation data itself. The map below (Figure 2 top) shows the co-occurrence count between every pair of attitudes. The darker the square, the more frequently those two attitudes were chosen together. Note that lots of pair-attitudes have zero values, due to the fact they are mutual-exclusive responses to the same question.\n",
    "\n",
    "The attitudes have been ordered based on the respondents’ average rating towards the Republican Party (yes, this was another item-response in the survey), creating a rough Left-to-Right spectrum from top-left to bottom-right. Reading the heatmap, the attitudes associated with the Left (the top-left corner) form a dense block of dark blue, indicating a highly interconnected and consistent belief system. In contrast, the attitudes associated with the Right show less frequent co-occurrence. The responses appear more diffuse, not necessarily more “diverse” in the way one might think of a set of ideas, which would be another dense area on the correlation map.\n",
    "'''\n",
    "\n",
    "doc = '''\n",
    "In today's digital landscape, where social media reigns supreme as the epicenter of content creation, marketing, and trend tracking, the pivotal role of video content cannot be overstated. Platforms like TikTok have revolutionized how we consume and engage with content, presenting both challenges and opportunities for marketers and creators alike. In this dynamic environment, deciphering the nuances of video content is paramount, as it is key to unlocking audience engagement, driving trends, and shaping brand narratives. Amidst the sheer volume of videos flooding these platforms daily, the need for sophisticated video understanding tools has never been more acute. Beyond simply viewing videos, marketers and content creators must navigate a complex landscape, deciphering what content resonates with audiences and why. This requires more than surface-level analysis; it demands a deep understanding of the underlying patterns, themes, and emotions that drive viewer engagement.\n",
    "\n",
    "Enter video understanding technologies. By leveraging intelligent analysis techniques, these tools offer marketers and creators a powerful ally in deciphering the intricacies of video content. From sentiment analysis to trend detection, these systems can uncover valuable insights buried within the vast sea of videos, enabling users to identify emerging trends, understand audience preferences, and craft content that resonates on a deeper level. As shown in the figure below, the landscape of video understanding has evolved significantly over the past few years. \n",
    "'''\n",
    "\n",
    "texts = doc.split('\\n\\n')\n",
    "prediction=[]\n",
    "for text in texts:\n",
    "    text = text.strip()\n",
    "    if text:\n",
    "        result = detector.predict(text, display_text=False, threshold=0.01)\n",
    "        if result['prediction'].startswith('AI'):\n",
    "            display(Markdown(result['colored_text']))\n",
    "        else:\n",
    "            display(Markdown(result['text']))\n",
    "        \n",
    "        print(f\"Score: {result['score'] :.3f}, Confidence: {result['confidence']:.3f}, Prediction: {result['prediction']}\")\n",
    "        prediction.append(result)\n",
    "        print('='*70)\n",
    "        "
   ]
  },
  {
   "cell_type": "code",
   "execution_count": 21,
   "metadata": {},
   "outputs": [
    {
     "data": {
      "text/plain": [
       "(prediction\n",
       " AI-generated    1\n",
       " Name: count, dtype: int64,\n",
       " 0.8004236817359924)"
      ]
     },
     "execution_count": 21,
     "metadata": {},
     "output_type": "execute_result"
    }
   ],
   "source": [
    "df.prediction.value_counts(), df.score.mean()"
   ]
  },
  {
   "cell_type": "code",
   "execution_count": 7,
   "metadata": {
    "scrolled": true
   },
   "outputs": [
    {
     "data": {
      "text/plain": [
       "100"
      ]
     },
     "execution_count": 7,
     "metadata": {},
     "output_type": "execute_result"
    }
   ],
   "source": [
    "filenames = []\n",
    "for folder in ['gpt', 'human']:\n",
    "    filenames.extend(glob.glob(f'data/gptzero/{folder}/*.txt') )\n",
    "len(filenames)"
   ]
  },
  {
   "cell_type": "code",
   "execution_count": 8,
   "metadata": {
    "scrolled": true
   },
   "outputs": [
    {
     "name": "stderr",
     "output_type": "stream",
     "text": [
      "  0%|          | 0/100 [00:00<?, ?it/s]"
     ]
    },
    {
     "name": "stderr",
     "output_type": "stream",
     "text": [
      "100%|██████████| 100/100 [00:40<00:00,  2.49it/s]\n"
     ]
    }
   ],
   "source": [
    "results = []\n",
    "for file in tqdm(filenames):\n",
    "    with open(file, 'r') as f:\n",
    "        lines = f.readlines()\n",
    "        text = ' '.join(lines)\n",
    "        results.append({'file':file} | detector.predict(text))"
   ]
  },
  {
   "cell_type": "code",
   "execution_count": 9,
   "metadata": {},
   "outputs": [
    {
     "data": {
      "text/html": [
       "<div>\n",
       "<style scoped>\n",
       "    .dataframe tbody tr th:only-of-type {\n",
       "        vertical-align: middle;\n",
       "    }\n",
       "\n",
       "    .dataframe tbody tr th {\n",
       "        vertical-align: top;\n",
       "    }\n",
       "\n",
       "    .dataframe thead th {\n",
       "        text-align: right;\n",
       "    }\n",
       "</style>\n",
       "<table border=\"1\" class=\"dataframe\">\n",
       "  <thead>\n",
       "    <tr style=\"text-align: right;\">\n",
       "      <th></th>\n",
       "      <th>file</th>\n",
       "      <th>prediction</th>\n",
       "      <th>score</th>\n",
       "      <th>confidence</th>\n",
       "      <th>colored_text</th>\n",
       "      <th>text</th>\n",
       "      <th>True Label</th>\n",
       "      <th>pred</th>\n",
       "    </tr>\n",
       "  </thead>\n",
       "  <tbody>\n",
       "    <tr>\n",
       "      <th>0</th>\n",
       "      <td>data/gptzero/gpt/35.txt</td>\n",
       "      <td>AI-generated</td>\n",
       "      <td>0.836557</td>\n",
       "      <td>0.824870</td>\n",
       "      <td>&lt;span style='background-color: #FFFF00'&gt;Tweet...</td>\n",
       "      <td>Tweet: Study reveals that dogs can understand ...</td>\n",
       "      <td>AI</td>\n",
       "      <td>AI</td>\n",
       "    </tr>\n",
       "    <tr>\n",
       "      <th>1</th>\n",
       "      <td>data/gptzero/gpt/29.txt</td>\n",
       "      <td>AI-generated</td>\n",
       "      <td>0.748923</td>\n",
       "      <td>1.000000</td>\n",
       "      <td>One &lt;span style='background-color: #FFFF00'&gt;c...</td>\n",
       "      <td>One craft that originated in Egypt is the art ...</td>\n",
       "      <td>AI</td>\n",
       "      <td>AI</td>\n",
       "    </tr>\n",
       "    <tr>\n",
       "      <th>2</th>\n",
       "      <td>data/gptzero/gpt/44.txt</td>\n",
       "      <td>AI-generated</td>\n",
       "      <td>0.660029</td>\n",
       "      <td>1.000000</td>\n",
       "      <td>The technology of the future will change &lt;spa...</td>\n",
       "      <td>The technology of the future will change our l...</td>\n",
       "      <td>AI</td>\n",
       "      <td>AI</td>\n",
       "    </tr>\n",
       "    <tr>\n",
       "      <th>3</th>\n",
       "      <td>data/gptzero/gpt/28.txt</td>\n",
       "      <td>AI-generated</td>\n",
       "      <td>0.617701</td>\n",
       "      <td>1.000000</td>\n",
       "      <td># The &lt;span style='background-color: #FFFF00'...</td>\n",
       "      <td># The Impact of Global Warming on the Environm...</td>\n",
       "      <td>AI</td>\n",
       "      <td>AI</td>\n",
       "    </tr>\n",
       "    <tr>\n",
       "      <th>4</th>\n",
       "      <td>data/gptzero/gpt/41.txt</td>\n",
       "      <td>AI-generated</td>\n",
       "      <td>0.737520</td>\n",
       "      <td>1.000000</td>\n",
       "      <td>Temperature &lt;span style='background-color: #F...</td>\n",
       "      <td>Temperature has a direct impact on the rate of...</td>\n",
       "      <td>AI</td>\n",
       "      <td>AI</td>\n",
       "    </tr>\n",
       "    <tr>\n",
       "      <th>...</th>\n",
       "      <td>...</td>\n",
       "      <td>...</td>\n",
       "      <td>...</td>\n",
       "      <td>...</td>\n",
       "      <td>...</td>\n",
       "      <td>...</td>\n",
       "      <td>...</td>\n",
       "      <td>...</td>\n",
       "    </tr>\n",
       "    <tr>\n",
       "      <th>95</th>\n",
       "      <td>data/gptzero/human/34.txt</td>\n",
       "      <td>Human-generated</td>\n",
       "      <td>0.933830</td>\n",
       "      <td>0.661493</td>\n",
       "      <td>The &lt;span style='background-color: #FFFF00'&gt;t...</td>\n",
       "      <td>The thing I picked up on here is how you focus...</td>\n",
       "      <td>Human</td>\n",
       "      <td>Human</td>\n",
       "    </tr>\n",
       "    <tr>\n",
       "      <th>96</th>\n",
       "      <td>data/gptzero/human/1.txt</td>\n",
       "      <td>Human-generated</td>\n",
       "      <td>0.945026</td>\n",
       "      <td>0.717475</td>\n",
       "      <td>A US &lt;span style='background-color: #FFFF00'&gt;...</td>\n",
       "      <td>A US bank has said it will donate more than $8...</td>\n",
       "      <td>Human</td>\n",
       "      <td>Human</td>\n",
       "    </tr>\n",
       "    <tr>\n",
       "      <th>97</th>\n",
       "      <td>data/gptzero/human/39.txt</td>\n",
       "      <td>Human-generated</td>\n",
       "      <td>0.970988</td>\n",
       "      <td>0.847286</td>\n",
       "      <td>It &lt;span style='background-color: #FFFF00'&gt;de...</td>\n",
       "      <td>It depends on the language. It’s basically wha...</td>\n",
       "      <td>Human</td>\n",
       "      <td>Human</td>\n",
       "    </tr>\n",
       "    <tr>\n",
       "      <th>98</th>\n",
       "      <td>data/gptzero/human/13.txt</td>\n",
       "      <td>Human-generated</td>\n",
       "      <td>0.959963</td>\n",
       "      <td>0.792159</td>\n",
       "      <td>Ex  No  &lt;span style='background-color: #FFFF0...</td>\n",
       "      <td>Ex-No 10 media chief Alastair Campbell is at t...</td>\n",
       "      <td>Human</td>\n",
       "      <td>Human</td>\n",
       "    </tr>\n",
       "    <tr>\n",
       "      <th>99</th>\n",
       "      <td>data/gptzero/human/21.txt</td>\n",
       "      <td>Human-generated</td>\n",
       "      <td>0.914548</td>\n",
       "      <td>0.565087</td>\n",
       "      <td>The London &lt;span style='background-color: #FF...</td>\n",
       "      <td>The London Stock Exchange (LSE) is planning to...</td>\n",
       "      <td>Human</td>\n",
       "      <td>Human</td>\n",
       "    </tr>\n",
       "  </tbody>\n",
       "</table>\n",
       "<p>100 rows × 8 columns</p>\n",
       "</div>"
      ],
      "text/plain": [
       "                         file       prediction     score  confidence  \\\n",
       "0     data/gptzero/gpt/35.txt     AI-generated  0.836557    0.824870   \n",
       "1     data/gptzero/gpt/29.txt     AI-generated  0.748923    1.000000   \n",
       "2     data/gptzero/gpt/44.txt     AI-generated  0.660029    1.000000   \n",
       "3     data/gptzero/gpt/28.txt     AI-generated  0.617701    1.000000   \n",
       "4     data/gptzero/gpt/41.txt     AI-generated  0.737520    1.000000   \n",
       "..                        ...              ...       ...         ...   \n",
       "95  data/gptzero/human/34.txt  Human-generated  0.933830    0.661493   \n",
       "96   data/gptzero/human/1.txt  Human-generated  0.945026    0.717475   \n",
       "97  data/gptzero/human/39.txt  Human-generated  0.970988    0.847286   \n",
       "98  data/gptzero/human/13.txt  Human-generated  0.959963    0.792159   \n",
       "99  data/gptzero/human/21.txt  Human-generated  0.914548    0.565087   \n",
       "\n",
       "                                         colored_text  \\\n",
       "0    <span style='background-color: #FFFF00'>Tweet...   \n",
       "1    One <span style='background-color: #FFFF00'>c...   \n",
       "2    The technology of the future will change <spa...   \n",
       "3    # The <span style='background-color: #FFFF00'...   \n",
       "4    Temperature <span style='background-color: #F...   \n",
       "..                                                ...   \n",
       "95   The <span style='background-color: #FFFF00'>t...   \n",
       "96   A US <span style='background-color: #FFFF00'>...   \n",
       "97   It <span style='background-color: #FFFF00'>de...   \n",
       "98   Ex  No  <span style='background-color: #FFFF0...   \n",
       "99   The London <span style='background-color: #FF...   \n",
       "\n",
       "                                                 text True Label   pred  \n",
       "0   Tweet: Study reveals that dogs can understand ...         AI     AI  \n",
       "1   One craft that originated in Egypt is the art ...         AI     AI  \n",
       "2   The technology of the future will change our l...         AI     AI  \n",
       "3   # The Impact of Global Warming on the Environm...         AI     AI  \n",
       "4   Temperature has a direct impact on the rate of...         AI     AI  \n",
       "..                                                ...        ...    ...  \n",
       "95  The thing I picked up on here is how you focus...      Human  Human  \n",
       "96  A US bank has said it will donate more than $8...      Human  Human  \n",
       "97  It depends on the language. It’s basically wha...      Human  Human  \n",
       "98  Ex-No 10 media chief Alastair Campbell is at t...      Human  Human  \n",
       "99  The London Stock Exchange (LSE) is planning to...      Human  Human  \n",
       "\n",
       "[100 rows x 8 columns]"
      ]
     },
     "execution_count": 9,
     "metadata": {},
     "output_type": "execute_result"
    }
   ],
   "source": [
    "df = pandas.DataFrame(results)\n",
    "df['True Label'] = df.file.apply(lambda x: 'Human' if x.split('/')[-2]=='human' else 'AI')\n",
    "df['pred'] = df.prediction.apply(lambda x: x.split('-')[0])\n",
    "df"
   ]
  },
  {
   "cell_type": "code",
   "execution_count": 10,
   "metadata": {},
   "outputs": [
    {
     "data": {
      "image/png": "[encoded data removed]",
      "text/plain": [
       "<Figure size 1200x800 with 1 Axes>"
      ]
     },
     "metadata": {},
     "output_type": "display_data"
    }
   ],
   "source": [
    "from sklearn.metrics import roc_auc_score, f1_score\n",
    "from matplotlib import pyplot as plt\n",
    "fig = plt.figure(figsize=(6,4), dpi=200)\n",
    "\n",
    "auc = roc_auc_score(df['True Label'], df['score'])\n",
    "f1 = f1_score(df['True Label']=='Human', df.pred=='Human')\n",
    "\n",
    "seaborn.histplot(df, x='score', bins=25, hue='True Label')\n",
    "plt.title(f\"AI Content Detection \\nF1-score: {f1:.3f},  ROC-AUC: {auc:.3f} \")\n",
    "plt.savefig('score.png', bbox_inches='tight')"
   ]
  },
  {
   "cell_type": "code",
   "execution_count": 23,
   "metadata": {},
   "outputs": [
    {
     "data": {
      "text/plain": [
       "10"
      ]
     },
     "execution_count": 23,
     "metadata": {},
     "output_type": "execute_result"
    }
   ],
   "source": [
    "import glob, json\n",
    "\n",
    "filenames = []\n",
    "for folder in ['open_orca','cc_news' , 'cnn', 'pubmed']:\n",
    "    filenames.extend(glob.glob(f'data/core/{folder}/*.jsonl') )\n",
    "len(filenames)"
   ]
  },
  {
   "cell_type": "code",
   "execution_count": 49,
   "metadata": {},
   "outputs": [
    {
     "name": "stderr",
     "output_type": "stream",
     "text": [
      "100%|██████████| 10/10 [00:00<00:00, 13094.92it/s]\n",
      "/tmp/ipykernel_596352/3648105083.py:11: SettingWithCopyWarning: \n",
      "A value is trying to be set on a copy of a slice from a DataFrame.\n",
      "Try using .loc[row_indexer,col_indexer] = value instead\n",
      "\n",
      "See the caveats in the documentation: https://pandas.pydata.org/pandas-docs/stable/user_guide/indexing.html#returning-a-view-versus-a-copy\n",
      "  df['texts'] = df['text'].apply(lambda x: [xx for xx in x.split('\\n') if xx.strip()])\n"
     ]
    },
    {
     "data": {
      "text/html": [
       "<div>\n",
       "<style scoped>\n",
       "    .dataframe tbody tr th:only-of-type {\n",
       "        vertical-align: middle;\n",
       "    }\n",
       "\n",
       "    .dataframe tbody tr th {\n",
       "        vertical-align: top;\n",
       "    }\n",
       "\n",
       "    .dataframe thead th {\n",
       "        text-align: right;\n",
       "    }\n",
       "</style>\n",
       "<table border=\"1\" class=\"dataframe\">\n",
       "  <thead>\n",
       "    <tr style=\"text-align: right;\">\n",
       "      <th></th>\n",
       "      <th>text</th>\n",
       "      <th>True Label</th>\n",
       "      <th>texts</th>\n",
       "    </tr>\n",
       "  </thead>\n",
       "  <tbody>\n",
       "    <tr>\n",
       "      <th>0</th>\n",
       "      <td>from this world. They have been causing chaos ...</td>\n",
       "      <td>AI</td>\n",
       "      <td>from this world. They have been causing chaos ...</td>\n",
       "    </tr>\n",
       "    <tr>\n",
       "      <th>0</th>\n",
       "      <td>from this world. They have been causing chaos ...</td>\n",
       "      <td>AI</td>\n",
       "      <td>Nate held onto her tightly, trying to calm her...</td>\n",
       "    </tr>\n",
       "    <tr>\n",
       "      <th>0</th>\n",
       "      <td>from this world. They have been causing chaos ...</td>\n",
       "      <td>AI</td>\n",
       "      <td>The registrar, still bewildered by the sudden ...</td>\n",
       "    </tr>\n",
       "    <tr>\n",
       "      <th>0</th>\n",
       "      <td>from this world. They have been causing chaos ...</td>\n",
       "      <td>AI</td>\n",
       "      <td>Natasha, her anger evident in her voice, stepp...</td>\n",
       "    </tr>\n",
       "    <tr>\n",
       "      <th>0</th>\n",
       "      <td>from this world. They have been causing chaos ...</td>\n",
       "      <td>AI</td>\n",
       "      <td>The registrar's confusion turned into concern ...</td>\n",
       "    </tr>\n",
       "    <tr>\n",
       "      <th>...</th>\n",
       "      <td>...</td>\n",
       "      <td>...</td>\n",
       "      <td>...</td>\n",
       "    </tr>\n",
       "    <tr>\n",
       "      <th>9</th>\n",
       "      <td>traction exerted by the posterior hyaloid has ...</td>\n",
       "      <td>Human</td>\n",
       "      <td>with the recent introduction of ocriplasmin , ...</td>\n",
       "    </tr>\n",
       "    <tr>\n",
       "      <th>9</th>\n",
       "      <td>traction exerted by the posterior hyaloid has ...</td>\n",
       "      <td>Human</td>\n",
       "      <td>transparent tissues such as the posterior hyal...</td>\n",
       "    </tr>\n",
       "    <tr>\n",
       "      <th>9</th>\n",
       "      <td>traction exerted by the posterior hyaloid has ...</td>\n",
       "      <td>Human</td>\n",
       "      <td>the lowest concentration of dye that will stai...</td>\n",
       "    </tr>\n",
       "    <tr>\n",
       "      <th>9</th>\n",
       "      <td>traction exerted by the posterior hyaloid has ...</td>\n",
       "      <td>Human</td>\n",
       "      <td>the dye should also be placed for the shortest...</td>\n",
       "    </tr>\n",
       "    <tr>\n",
       "      <th>9</th>\n",
       "      <td>traction exerted by the posterior hyaloid has ...</td>\n",
       "      <td>Human</td>\n",
       "      <td>ta highlights the vitreous most ideally , and ...</td>\n",
       "    </tr>\n",
       "  </tbody>\n",
       "</table>\n",
       "<p>194 rows × 3 columns</p>\n",
       "</div>"
      ],
      "text/plain": [
       "                                                 text True Label  \\\n",
       "0   from this world. They have been causing chaos ...         AI   \n",
       "0   from this world. They have been causing chaos ...         AI   \n",
       "0   from this world. They have been causing chaos ...         AI   \n",
       "0   from this world. They have been causing chaos ...         AI   \n",
       "0   from this world. They have been causing chaos ...         AI   \n",
       "..                                                ...        ...   \n",
       "9   traction exerted by the posterior hyaloid has ...      Human   \n",
       "9   traction exerted by the posterior hyaloid has ...      Human   \n",
       "9   traction exerted by the posterior hyaloid has ...      Human   \n",
       "9   traction exerted by the posterior hyaloid has ...      Human   \n",
       "9   traction exerted by the posterior hyaloid has ...      Human   \n",
       "\n",
       "                                                texts  \n",
       "0   from this world. They have been causing chaos ...  \n",
       "0   Nate held onto her tightly, trying to calm her...  \n",
       "0   The registrar, still bewildered by the sudden ...  \n",
       "0   Natasha, her anger evident in her voice, stepp...  \n",
       "0   The registrar's confusion turned into concern ...  \n",
       "..                                                ...  \n",
       "9   with the recent introduction of ocriplasmin , ...  \n",
       "9   transparent tissues such as the posterior hyal...  \n",
       "9   the lowest concentration of dye that will stai...  \n",
       "9   the dye should also be placed for the shortest...  \n",
       "9   ta highlights the vitreous most ideally , and ...  \n",
       "\n",
       "[194 rows x 3 columns]"
      ]
     },
     "execution_count": 49,
     "metadata": {},
     "output_type": "execute_result"
    }
   ],
   "source": [
    "data = []\n",
    "for file in tqdm(filenames):\n",
    "    with open(file, 'r') as f:\n",
    "        json_data = json.loads(f.readline())\n",
    "        data.append(json_data)\n",
    "\n",
    "data = pandas.DataFrame(data)\n",
    "data['text'] = data[['response', 'text', 'article']].apply(lambda x: ' '.join(x.dropna()), axis=1)\n",
    "data['True Label'] = data.apply(lambda x: 'Human' if type(x['article'])==str else 'AI', axis=1)\n",
    "df = data[['text', 'True Label']]\n",
    "df['texts'] = df['text'].apply(lambda x: [xx for xx in x.split('\\n') if xx.strip()])\n",
    "df = df.explode('texts')\n",
    "df"
   ]
  },
  {
   "cell_type": "code",
   "execution_count": null,
   "metadata": {},
   "outputs": [
    {
     "name": "stderr",
     "output_type": "stream",
     "text": [
      "0it [00:00, ?it/s]"
     ]
    },
    {
     "name": "stderr",
     "output_type": "stream",
     "text": [
      "194it [00:33,  5.73it/s]\n"
     ]
    }
   ],
   "source": [
    "for idx, row in tqdm(df.iterrows()):\n",
    "    result = detector.predict(row['texts'], display_text=False)\n",
    "    df.at[idx, 'prediction'] = result['prediction']\n",
    "    df.at[idx, 'score'] = result['score']\n",
    "    df.at[idx, 'confidence'] = result['confidence']"
   ]
  },
  {
   "cell_type": "code",
   "execution_count": 52,
   "metadata": {},
   "outputs": [
    {
     "data": {
      "text/html": [
       "<div>\n",
       "<style scoped>\n",
       "    .dataframe tbody tr th:only-of-type {\n",
       "        vertical-align: middle;\n",
       "    }\n",
       "\n",
       "    .dataframe tbody tr th {\n",
       "        vertical-align: top;\n",
       "    }\n",
       "\n",
       "    .dataframe thead th {\n",
       "        text-align: right;\n",
       "    }\n",
       "</style>\n",
       "<table border=\"1\" class=\"dataframe\">\n",
       "  <thead>\n",
       "    <tr style=\"text-align: right;\">\n",
       "      <th></th>\n",
       "      <th>text</th>\n",
       "      <th>True Label</th>\n",
       "      <th>texts</th>\n",
       "      <th>prediction</th>\n",
       "      <th>score</th>\n",
       "      <th>confidence</th>\n",
       "      <th>pred</th>\n",
       "    </tr>\n",
       "  </thead>\n",
       "  <tbody>\n",
       "    <tr>\n",
       "      <th>0</th>\n",
       "      <td>from this world. They have been causing chaos ...</td>\n",
       "      <td>AI</td>\n",
       "      <td>from this world. They have been causing chaos ...</td>\n",
       "      <td>AI-generated</td>\n",
       "      <td>0.725521</td>\n",
       "      <td>1.0</td>\n",
       "      <td>AI</td>\n",
       "    </tr>\n",
       "    <tr>\n",
       "      <th>0</th>\n",
       "      <td>from this world. They have been causing chaos ...</td>\n",
       "      <td>AI</td>\n",
       "      <td>Nate held onto her tightly, trying to calm her...</td>\n",
       "      <td>AI-generated</td>\n",
       "      <td>0.725521</td>\n",
       "      <td>1.0</td>\n",
       "      <td>AI</td>\n",
       "    </tr>\n",
       "    <tr>\n",
       "      <th>0</th>\n",
       "      <td>from this world. They have been causing chaos ...</td>\n",
       "      <td>AI</td>\n",
       "      <td>The registrar, still bewildered by the sudden ...</td>\n",
       "      <td>AI-generated</td>\n",
       "      <td>0.725521</td>\n",
       "      <td>1.0</td>\n",
       "      <td>AI</td>\n",
       "    </tr>\n",
       "    <tr>\n",
       "      <th>0</th>\n",
       "      <td>from this world. They have been causing chaos ...</td>\n",
       "      <td>AI</td>\n",
       "      <td>Natasha, her anger evident in her voice, stepp...</td>\n",
       "      <td>AI-generated</td>\n",
       "      <td>0.725521</td>\n",
       "      <td>1.0</td>\n",
       "      <td>AI</td>\n",
       "    </tr>\n",
       "    <tr>\n",
       "      <th>0</th>\n",
       "      <td>from this world. They have been causing chaos ...</td>\n",
       "      <td>AI</td>\n",
       "      <td>The registrar's confusion turned into concern ...</td>\n",
       "      <td>AI-generated</td>\n",
       "      <td>0.725521</td>\n",
       "      <td>1.0</td>\n",
       "      <td>AI</td>\n",
       "    </tr>\n",
       "    <tr>\n",
       "      <th>...</th>\n",
       "      <td>...</td>\n",
       "      <td>...</td>\n",
       "      <td>...</td>\n",
       "      <td>...</td>\n",
       "      <td>...</td>\n",
       "      <td>...</td>\n",
       "      <td>...</td>\n",
       "    </tr>\n",
       "    <tr>\n",
       "      <th>9</th>\n",
       "      <td>traction exerted by the posterior hyaloid has ...</td>\n",
       "      <td>Human</td>\n",
       "      <td>with the recent introduction of ocriplasmin , ...</td>\n",
       "      <td>Human-generated</td>\n",
       "      <td>1.138355</td>\n",
       "      <td>1.0</td>\n",
       "      <td>Human</td>\n",
       "    </tr>\n",
       "    <tr>\n",
       "      <th>9</th>\n",
       "      <td>traction exerted by the posterior hyaloid has ...</td>\n",
       "      <td>Human</td>\n",
       "      <td>transparent tissues such as the posterior hyal...</td>\n",
       "      <td>Human-generated</td>\n",
       "      <td>1.138355</td>\n",
       "      <td>1.0</td>\n",
       "      <td>Human</td>\n",
       "    </tr>\n",
       "    <tr>\n",
       "      <th>9</th>\n",
       "      <td>traction exerted by the posterior hyaloid has ...</td>\n",
       "      <td>Human</td>\n",
       "      <td>the lowest concentration of dye that will stai...</td>\n",
       "      <td>Human-generated</td>\n",
       "      <td>1.138355</td>\n",
       "      <td>1.0</td>\n",
       "      <td>Human</td>\n",
       "    </tr>\n",
       "    <tr>\n",
       "      <th>9</th>\n",
       "      <td>traction exerted by the posterior hyaloid has ...</td>\n",
       "      <td>Human</td>\n",
       "      <td>the dye should also be placed for the shortest...</td>\n",
       "      <td>Human-generated</td>\n",
       "      <td>1.138355</td>\n",
       "      <td>1.0</td>\n",
       "      <td>Human</td>\n",
       "    </tr>\n",
       "    <tr>\n",
       "      <th>9</th>\n",
       "      <td>traction exerted by the posterior hyaloid has ...</td>\n",
       "      <td>Human</td>\n",
       "      <td>ta highlights the vitreous most ideally , and ...</td>\n",
       "      <td>Human-generated</td>\n",
       "      <td>1.138355</td>\n",
       "      <td>1.0</td>\n",
       "      <td>Human</td>\n",
       "    </tr>\n",
       "  </tbody>\n",
       "</table>\n",
       "<p>194 rows × 7 columns</p>\n",
       "</div>"
      ],
      "text/plain": [
       "                                                 text True Label  \\\n",
       "0   from this world. They have been causing chaos ...         AI   \n",
       "0   from this world. They have been causing chaos ...         AI   \n",
       "0   from this world. They have been causing chaos ...         AI   \n",
       "0   from this world. They have been causing chaos ...         AI   \n",
       "0   from this world. They have been causing chaos ...         AI   \n",
       "..                                                ...        ...   \n",
       "9   traction exerted by the posterior hyaloid has ...      Human   \n",
       "9   traction exerted by the posterior hyaloid has ...      Human   \n",
       "9   traction exerted by the posterior hyaloid has ...      Human   \n",
       "9   traction exerted by the posterior hyaloid has ...      Human   \n",
       "9   traction exerted by the posterior hyaloid has ...      Human   \n",
       "\n",
       "                                                texts       prediction  \\\n",
       "0   from this world. They have been causing chaos ...     AI-generated   \n",
       "0   Nate held onto her tightly, trying to calm her...     AI-generated   \n",
       "0   The registrar, still bewildered by the sudden ...     AI-generated   \n",
       "0   Natasha, her anger evident in her voice, stepp...     AI-generated   \n",
       "0   The registrar's confusion turned into concern ...     AI-generated   \n",
       "..                                                ...              ...   \n",
       "9   with the recent introduction of ocriplasmin , ...  Human-generated   \n",
       "9   transparent tissues such as the posterior hyal...  Human-generated   \n",
       "9   the lowest concentration of dye that will stai...  Human-generated   \n",
       "9   the dye should also be placed for the shortest...  Human-generated   \n",
       "9   ta highlights the vitreous most ideally , and ...  Human-generated   \n",
       "\n",
       "       score  confidence   pred  \n",
       "0   0.725521         1.0     AI  \n",
       "0   0.725521         1.0     AI  \n",
       "0   0.725521         1.0     AI  \n",
       "0   0.725521         1.0     AI  \n",
       "0   0.725521         1.0     AI  \n",
       "..       ...         ...    ...  \n",
       "9   1.138355         1.0  Human  \n",
       "9   1.138355         1.0  Human  \n",
       "9   1.138355         1.0  Human  \n",
       "9   1.138355         1.0  Human  \n",
       "9   1.138355         1.0  Human  \n",
       "\n",
       "[194 rows x 7 columns]"
      ]
     },
     "execution_count": 52,
     "metadata": {},
     "output_type": "execute_result"
    }
   ],
   "source": [
    "df['pred'] = df.prediction.apply(lambda x: x.split('-')[0])\n",
    "df"
   ]
  },
  {
   "cell_type": "code",
   "execution_count": 53,
   "metadata": {},
   "outputs": [
    {
     "data": {
      "image/png": "[encoded data removed]",
      "text/plain": [
       "<Figure size 1200x800 with 1 Axes>"
      ]
     },
     "metadata": {},
     "output_type": "display_data"
    }
   ],
   "source": [
    "fig = plt.figure(figsize=(6,4), dpi=200)\n",
    "\n",
    "auc = roc_auc_score(df['True Label'], df['score'])\n",
    "f1 = f1_score(df['True Label']=='Human', df.pred=='Human')\n",
    "\n",
    "seaborn.histplot(df, x='score', bins=25, hue='True Label')\n",
    "plt.title(f\"AI Content Detection \\nF1-score: {f1:.3f},  ROC-AUC: {auc:.3f} \")\n",
    "plt.savefig('score.png', bbox_inches='tight')"
   ]
  },
  {
   "cell_type": "code",
   "execution_count": 54,
   "metadata": {},
   "outputs": [
    {
     "data": {
      "text/html": [
       "<div>\n",
       "<style scoped>\n",
       "    .dataframe tbody tr th:only-of-type {\n",
       "        vertical-align: middle;\n",
       "    }\n",
       "\n",
       "    .dataframe tbody tr th {\n",
       "        vertical-align: top;\n",
       "    }\n",
       "\n",
       "    .dataframe thead th {\n",
       "        text-align: right;\n",
       "    }\n",
       "</style>\n",
       "<table border=\"1\" class=\"dataframe\">\n",
       "  <thead>\n",
       "    <tr style=\"text-align: right;\">\n",
       "      <th></th>\n",
       "      <th>prompt</th>\n",
       "      <th>human_text</th>\n",
       "      <th>machine_text</th>\n",
       "      <th>model</th>\n",
       "      <th>source</th>\n",
       "      <th>language</th>\n",
       "    </tr>\n",
       "  </thead>\n",
       "  <tbody>\n",
       "    <tr>\n",
       "      <th>0</th>\n",
       "      <td>What happened to Henry II's jousting opponent ...</td>\n",
       "      <td>Henry died in a joust against the captain of h...</td>\n",
       "      <td>Henry II of England was a king of England from...</td>\n",
       "      <td>flan-t5</td>\n",
       "      <td>NaN</td>\n",
       "      <td>English</td>\n",
       "    </tr>\n",
       "    <tr>\n",
       "      <th>1</th>\n",
       "      <td>How did the money transfer for the Louisiana P...</td>\n",
       "      <td>In 1801, James Monroe and Robert R. Livingston...</td>\n",
       "      <td>The Louisiana Purchase was a land purchase fro...</td>\n",
       "      <td>flan-t5</td>\n",
       "      <td>NaN</td>\n",
       "      <td>English</td>\n",
       "    </tr>\n",
       "    <tr>\n",
       "      <th>2</th>\n",
       "      <td>Is removing pubic hair a modern fad or did any...</td>\n",
       "      <td>Good question! [I answered this a few years ba...</td>\n",
       "      <td>The practice of removing pubic hair is a moder...</td>\n",
       "      <td>flan-t5</td>\n",
       "      <td>NaN</td>\n",
       "      <td>English</td>\n",
       "    </tr>\n",
       "    <tr>\n",
       "      <th>3</th>\n",
       "      <td>As a german I never fully understood Watergate...</td>\n",
       "      <td>Watergate is an incredibly interesting period ...</td>\n",
       "      <td>Watergate was a scandal that occurred in the U...</td>\n",
       "      <td>flan-t5</td>\n",
       "      <td>NaN</td>\n",
       "      <td>English</td>\n",
       "    </tr>\n",
       "    <tr>\n",
       "      <th>4</th>\n",
       "      <td>If a King fell in battle, was anyone 'allowed ...</td>\n",
       "      <td>No, in medieval Europe,  there were no restric...</td>\n",
       "      <td>The common soldier was not allowed to kill a K...</td>\n",
       "      <td>flan-t5</td>\n",
       "      <td>NaN</td>\n",
       "      <td>English</td>\n",
       "    </tr>\n",
       "  </tbody>\n",
       "</table>\n",
       "</div>"
      ],
      "text/plain": [
       "                                              prompt  \\\n",
       "0  What happened to Henry II's jousting opponent ...   \n",
       "1  How did the money transfer for the Louisiana P...   \n",
       "2  Is removing pubic hair a modern fad or did any...   \n",
       "3  As a german I never fully understood Watergate...   \n",
       "4  If a King fell in battle, was anyone 'allowed ...   \n",
       "\n",
       "                                          human_text  \\\n",
       "0  Henry died in a joust against the captain of h...   \n",
       "1  In 1801, James Monroe and Robert R. Livingston...   \n",
       "2  Good question! [I answered this a few years ba...   \n",
       "3  Watergate is an incredibly interesting period ...   \n",
       "4  No, in medieval Europe,  there were no restric...   \n",
       "\n",
       "                                        machine_text    model  source language  \n",
       "0  Henry II of England was a king of England from...  flan-t5     NaN  English  \n",
       "1  The Louisiana Purchase was a land purchase fro...  flan-t5     NaN  English  \n",
       "2  The practice of removing pubic hair is a moder...  flan-t5     NaN  English  \n",
       "3  Watergate was a scandal that occurred in the U...  flan-t5     NaN  English  \n",
       "4  The common soldier was not allowed to kill a K...  flan-t5     NaN  English  "
      ]
     },
     "execution_count": 54,
     "metadata": {},
     "output_type": "execute_result"
    }
   ],
   "source": [
    "data = pandas.read_csv('data/m4/m4_dataset_raw/reddit_flant5.csv')\n",
    "data.head()"
   ]
  },
  {
   "cell_type": "code",
   "execution_count": null,
   "metadata": {},
   "outputs": [],
   "source": []
  }
 ],
 "metadata": {
  "kernelspec": {
   "display_name": "Python 3",
   "language": "python",
   "name": "python3"
  },
  "language_info": {
   "codemirror_mode": {
    "name": "ipython",
    "version": 3
   },
   "file_extension": ".py",
   "mimetype": "text/x-python",
   "name": "python",
   "nbconvert_exporter": "python",
   "pygments_lexer": "ipython3",
   "version": "3.12.11"
  }
 },
 "nbformat": 4,
 "nbformat_minor": 4
}
